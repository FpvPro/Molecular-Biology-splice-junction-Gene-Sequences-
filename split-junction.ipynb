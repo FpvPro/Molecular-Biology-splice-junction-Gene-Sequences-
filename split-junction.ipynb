{
 "cells": [
  {
   "cell_type": "markdown",
   "metadata": {},
   "source": [
    "Описание проблемы:  \n",
    "**Точки сращивания** - это такие точки на цепочке ДНК, участки ДНК между которыми помечаются \"лишними\" и удаляются в процессе синтеза белка в высших организмах.  \n",
    "**Экзоном** называется участок ДНК, сохраненный в результирующей цепочке после сращивания.  \n",
    "**Интроном** называется участок ДНК, который был подвергнут сплавлению и не вошёл в результирующую последовательность ДНК.  \n",
    "Проблему распознания таких участков можно разбить на 2 части:  \n",
    "    -распознавание границ экзона/интрона (EI -sites) - так называемых доноров  \n",
    "    -распознавание границ интрона/экзона (IE -sites) - так называемых акцепторов\n",
    "\n",
    "Категории доноров и акцепторов включают в себя все \"разделяющие гены\" для приматов, хранящиеся в Банке Генов 64.1\n",
    "Несращиваемые (N) примеры взяты из последовательностей, про которые известно, что они не содержат сращивающейся части\n",
    "\n",
    "Будем рассматривать участки ДНК длиной 60 нуклеотидов начиная от -30 и заканчивая +30; каждое поле в данной цепочке может быть заполнено:  \n",
    "    - Явно указанным нуклеотидом (Аденин - A, Тимин - T, Гуанин - G, Цитозин - C)  \n",
    "    - Неявно указанным нуклеотидом в соответствии с таблицей:  \n",
    "        D: A или G или T\n",
    "        N: A или G или C или T\n",
    "        S: C или G\n",
    "        R: A или G"
   ]
  },
  {
   "cell_type": "markdown",
   "metadata": {
    "collapsed": true
   },
   "source": [
    "Начнём с того, что загрузим библиотеки, которые будем в дальнейшем использовать для обработки данных"
   ]
  },
  {
   "cell_type": "code",
   "execution_count": 1,
   "metadata": {
    "collapsed": true
   },
   "outputs": [],
   "source": [
    "import numpy as np\n",
    "import matplotlib.pyplot as plt\n",
    "import pandas as pd\n",
    "%matplotlib inline"
   ]
  },
  {
   "cell_type": "markdown",
   "metadata": {
    "collapsed": true
   },
   "source": [
    "Загрузим набор данных из файла   \n",
    "Отметим, что в данных, по сути, содержится 62 атрибута:   \n",
    "        -класс (акцептор, донор, несращиваемый),  \n",
    "        -имя гена,   \n",
    "        -последовательность из 60 нуклеотидов   "
   ]
  },
  {
   "cell_type": "code",
   "execution_count": 2,
   "metadata": {
    "collapsed": true
   },
   "outputs": [],
   "source": [
    "pd.options.mode.chained_assignment = None  # default='warn'\n",
    "data = pd.read_csv('../splice.data', sep = ', ', engine = 'python')"
   ]
  },
  {
   "cell_type": "markdown",
   "metadata": {
    "collapsed": true
   },
   "source": [
    "Внимательно посморев на множество данных, сделаем вывод о том, что мы будем решать задачу классификации:  \n",
    "    определять тип имеющегося перехода на участке ДНК по самой последовательности нуклеотидов"
   ]
  },
  {
   "cell_type": "code",
   "execution_count": 3,
   "metadata": {},
   "outputs": [
    {
     "data": {
      "text/html": [
       "<div>\n",
       "<style>\n",
       "    .dataframe thead tr:only-child th {\n",
       "        text-align: right;\n",
       "    }\n",
       "\n",
       "    .dataframe thead th {\n",
       "        text-align: left;\n",
       "    }\n",
       "\n",
       "    .dataframe tbody tr th {\n",
       "        vertical-align: top;\n",
       "    }\n",
       "</style>\n",
       "<table border=\"1\" class=\"dataframe\">\n",
       "  <thead>\n",
       "    <tr style=\"text-align: right;\">\n",
       "      <th></th>\n",
       "      <th>Type</th>\n",
       "      <th>Donor</th>\n",
       "      <th>DNA</th>\n",
       "    </tr>\n",
       "  </thead>\n",
       "  <tbody>\n",
       "    <tr>\n",
       "      <th>count</th>\n",
       "      <td>3190</td>\n",
       "      <td>3190</td>\n",
       "      <td>3190</td>\n",
       "    </tr>\n",
       "    <tr>\n",
       "      <th>unique</th>\n",
       "      <td>3</td>\n",
       "      <td>3178</td>\n",
       "      <td>3092</td>\n",
       "    </tr>\n",
       "    <tr>\n",
       "      <th>top</th>\n",
       "      <td>N</td>\n",
       "      <td>HUMMYLCA-ACCEPTOR-924</td>\n",
       "      <td>GGAAGATGCTGGAGGAGAAACCCTGGGAAGGTAGG...</td>\n",
       "    </tr>\n",
       "    <tr>\n",
       "      <th>freq</th>\n",
       "      <td>1655</td>\n",
       "      <td>2</td>\n",
       "      <td>3</td>\n",
       "    </tr>\n",
       "  </tbody>\n",
       "</table>\n",
       "</div>"
      ],
      "text/plain": [
       "        Type                     Donor  \\\n",
       "count   3190                      3190   \n",
       "unique     3                      3178   \n",
       "top        N     HUMMYLCA-ACCEPTOR-924   \n",
       "freq    1655                         2   \n",
       "\n",
       "                                                      DNA  \n",
       "count                                                3190  \n",
       "unique                                               3092  \n",
       "top                GGAAGATGCTGGAGGAGAAACCCTGGGAAGGTAGG...  \n",
       "freq                                                    3  "
      ]
     },
     "execution_count": 3,
     "metadata": {},
     "output_type": "execute_result"
    }
   ],
   "source": [
    "data.describe()"
   ]
  },
  {
   "cell_type": "markdown",
   "metadata": {},
   "source": [
    "Выше - таблица с описанием множества данных"
   ]
  },
  {
   "cell_type": "markdown",
   "metadata": {},
   "source": [
    "Необходимо отметить, что границы области сращивания определяются следующим образом:  \n",
    "    Вариант 1: EI - граница - определена короткой последовательностью и отсутствием стоп-кодона (останавливающего триплета) на стороне экзона   \n",
    "    \n",
    "\tEI :- @-3 'MAGGTRAGT', not(EI-stop)  \n",
    "\n",
    "Вариант 2: EI - граница строится на основе стоп-кодона в некоторой окрестности окончания части экзона  \n",
    "    \n",
    "\tEI-stop ::- @-3 'TAA'.      \n",
    "\tEI-stop ::- @-3 'TAG'.      \n",
    "\tEI-stop ::- @-3 'TGA'.      \n",
    "\tEI-stop ::- @-4 'TAA'.  \n",
    "    EI-stop ::- @-4 'TAG'.      \n",
    "    EI-stop ::- @-4 'TGA'.      \n",
    "    EI-stop ::- @-5 'TAA'.      \n",
    "    EI-stop ::- @-5 'TAG'.      \n",
    "    EI-stop ::- @-5 'TGA'.\n",
    "    \n",
    "\n",
    "Для границы интрон-экзон существует 2 варианта определения:  \n",
    "    Вариант 1: Граница интрон - экзон определяется короткой последовательностью вокруг границы, отсутствием «стоп-кодона» сразу после границы и «насыщенной пирамидином» области, предшествующей границе.\n",
    "    \n",
    "   \tIE :- pyramidine-rich, @-3 'YAGG', not(IE-stop).  \n",
    "   \tpyramidine-rich :- 6 of (@-15 'YYYYYYYYYY').  \n",
    "\n",
    "Вариант 2: явное указание стоп-кодона в некоторой окрестности окончания части экзона\n",
    "\n",
    "   \t IE-stop1 ::- @1 'TAA'.  \n",
    "   \t IE-stop2 ::- @1 'TAG'.  \n",
    "   \t IE-stop3 ::- @1 'TGA'.  \n",
    "        IE-stop4 ::- @2 'TAA'.  \n",
    "        IE-stop5 ::- @2 'TAG'.  \n",
    "        IE-stop6 ::- @2 'TGA'.  \n",
    "        IE-stop7 ::- @3 'TAA'.  \n",
    "        IE-stop8 ::- @3 'TAG'.  \n",
    "        IE-stop9 ::- @3 'TGA'.  \n"
   ]
  },
  {
   "cell_type": "markdown",
   "metadata": {},
   "source": [
    "Итак, в данном наборе нас интересуют:   \n",
    "\n",
    "        -относительная частота нуклеотидов;  \n",
    "        -разбиение на классы относительно сращивания последовательностей ДНК;  \n",
    "        -способ определения границы сращивания (по стоп-кодону или без него, тип стоп-кодона (если есть))  "
   ]
  },
  {
   "cell_type": "markdown",
   "metadata": {},
   "source": [
    "Подготовим множество нуклеотидов (возможных встречающихся в ДНК)  \n",
    "Отметим, что варианты \"значений\", которые может принимать нуклеотид, взяты из описания исходного множества данных"
   ]
  },
  {
   "cell_type": "code",
   "execution_count": 4,
   "metadata": {
    "collapsed": true
   },
   "outputs": [],
   "source": [
    "nucleotids =['A','T','G','C','D','N','R','S']\n",
    "for i in nucleotids:\n",
    "    data[i]=0"
   ]
  },
  {
   "cell_type": "markdown",
   "metadata": {},
   "source": [
    "Заполним количество нуклеотидов каждого вида для каждой цепочки ДНК:\n"
   ]
  },
  {
   "cell_type": "code",
   "execution_count": 5,
   "metadata": {
    "collapsed": true
   },
   "outputs": [],
   "source": [
    "for i in range(len(data)):\n",
    "    for nc in nucleotids:\n",
    "        data[nc][i] = data['DNA'][i].count(nc)"
   ]
  },
  {
   "cell_type": "markdown",
   "metadata": {},
   "source": [
    "Определим, какой стоп-кодон используется в данной последовательности, учитывая:\n",
    "\n",
    "        если класс = n, стоп-кодона нет  \n",
    "        иначе ищем стоп-кодон (будем учитывать, что окрестность точки сплавления составляет 5 нуклеотид, поэтому стоп-кодон не может располагаться на +30 или -30 позиции)"
   ]
  },
  {
   "cell_type": "markdown",
   "metadata": {
    "collapsed": true
   },
   "source": [
    "В правилах определения стоп-кодона на границе области сращивания указано, что он может принимать 3 разных значения:  \n",
    "\n",
    "    триплет Тимин-Аданин-Аданин  \n",
    "    триплет Тимин-Аденин-Гуанин  \n",
    "    триплет Тимин-Гуанин-Аденин  \n",
    "    \n",
    "Кроме того, на участке ДНК, независимо от его типа, может не быть стоп-кодона"
   ]
  },
  {
   "cell_type": "code",
   "execution_count": 6,
   "metadata": {
    "collapsed": true
   },
   "outputs": [],
   "source": [
    "stop_codones = ['TAA', 'TAG', 'TGA']\n",
    "data['stop-code']='None'\n",
    "for i in range(len(data)):\n",
    "    if data['Type'][i]!= 'N':\n",
    "        for j in range(len(stop_codones)): \n",
    "            stopcd = data['DNA'][i].find(stop_codones[j], 5, 59-5 )\n",
    "            if stopcd != -1:\n",
    "                if data['Type'][i]!='IE':\n",
    "                    data['stop-code'][i]= stop_codones[j]\n",
    "                    break;\n",
    "                else:\n",
    "                    priamidin = stopcd-15\n",
    "                    pmd_start = min(data['DNA'][i].find('T', priamidin, stopcd), data['DNA'][i].find('C', priamidin, stopcd))\n",
    "                    if (data['DNA'][i][pmd_start:stopcd].count('T')+data['DNA'][i][pmd_start:stopcd].count('C')+ data['DNA'][i][pmd_start:stopcd].count('D')+data['DNA'][i][pmd_start:stopcd].count('S')+data['DNA'][i][pmd_start:stopcd].count('N')>=3):\n",
    "                        data['stop-code'][i]= stop_codones[j]\n",
    "                        \n",
    "                        break;"
   ]
  },
  {
   "cell_type": "markdown",
   "metadata": {
    "collapsed": true
   },
   "source": [
    "Посмотрим на результаты поиска стоп-кодов по всему множеству данных  \n",
    "Отметим, что половина данных (1655 строк таблицы) отосятся к участкам ДНК без перехода через точку сращивания, \n",
    "таким образом, всего 430 отрезков с точкой сращивания не содержат стоп-кодона "
   ]
  },
  {
   "cell_type": "code",
   "execution_count": 7,
   "metadata": {},
   "outputs": [
    {
     "data": {
      "text/plain": [
       "count     3190\n",
       "unique       4\n",
       "top       None\n",
       "freq      2085\n",
       "Name: stop-code, dtype: object"
      ]
     },
     "execution_count": 7,
     "metadata": {},
     "output_type": "execute_result"
    }
   ],
   "source": [
    "data['stop-code'].describe()"
   ]
  },
  {
   "cell_type": "markdown",
   "metadata": {},
   "source": [
    "Подсчитаем частоту встречаемости стоп-кодов"
   ]
  },
  {
   "cell_type": "code",
   "execution_count": 8,
   "metadata": {},
   "outputs": [
    {
     "data": {
      "text/plain": [
       "[2085, 448, 411, 246]"
      ]
     },
     "execution_count": 8,
     "metadata": {},
     "output_type": "execute_result"
    }
   ],
   "source": [
    "st = data['stop-code'].unique()\n",
    "stop_code_freq = [0 for i in range (len(st))]\n",
    "for j in range(len(data)):\n",
    "    for i in range (len(st)):\n",
    "        if data['stop-code'][j]==st[i]:\n",
    "            stop_code_freq[i]=stop_code_freq[i]+1\n",
    "stop_code_freq"
   ]
  },
  {
   "cell_type": "markdown",
   "metadata": {},
   "source": [
    "Для наглядности построим график частоты встречемости стоп-кодонов  \n",
    "Используем функцию bar библиотеки matplotlib.pyplot, в качестве входных параметров передадим размещение для каждой группы (позицию столбца), количество наблюдений для каждого варианта стоп-кодона (значение для каждого столбца), ширину каждого из столбцов  \n",
    "Добавим подписи по осям"
   ]
  },
  {
   "cell_type": "code",
   "execution_count": 9,
   "metadata": {},
   "outputs": [
    {
     "data": {
      "text/plain": [
       "([<matplotlib.axis.XTick at 0x626ae71198>,\n",
       "  <matplotlib.axis.XTick at 0x626ae89438>,\n",
       "  <matplotlib.axis.XTick at 0x626ae83748>,\n",
       "  <matplotlib.axis.XTick at 0x6269d64780>],\n",
       " <a list of 4 Text xticklabel objects>)"
      ]
     },
     "execution_count": 9,
     "metadata": {},
     "output_type": "execute_result"
    },
    {
     "data": {
      "image/png": "[encoded data removed]",
      "text/plain": [
       "<matplotlib.figure.Figure at 0x626ae85860>"
      ]
     },
     "metadata": {},
     "output_type": "display_data"
    }
   ],
   "source": [
    "stpcdnStd = (1,2,3,4)\n",
    "ind = np.arange(len(stop_code_freq))    # the x locations for the groups\n",
    "width = 0.35       # the width of the bars: can also be len(x) sequence\n",
    "\n",
    "p1 = plt.bar(ind, stop_code_freq, width, yerr=stpcdnStd)\n",
    "\n",
    "plt.ylabel('Количество наблюдений')\n",
    "plt.title('стоп-кодон')\n",
    "plt.xticks(ind, st)"
   ]
  },
  {
   "cell_type": "markdown",
   "metadata": {},
   "source": [
    "График количества наблюдений стоп-кодонов на множестве данных"
   ]
  },
  {
   "cell_type": "markdown",
   "metadata": {
    "collapsed": true
   },
   "source": [
    "В биологии принято считать, что нуклеотиды попарно комплиментарны друг другу  \n",
    "Так, напротив Аденина, расположенного на определенной позиции в одной нити ДНК, на данной же позиции во второй нити расположен Тимин, Напротив Гуанина - Цитозин. Этот механизм необходим для репликации ДНК при синтезе белка посредством РНК (рибо-нуклеиновой кислоты): спираль ДНК разкручивается, и транспортная РНК на основе принципа комплементарности пиримидиновых и азотистых оснований собирает \"зеркальную копию\" нити ДНК, собирая и состыковывая нуклеотиды как бусины на нитку до тех пор, пока не встретит управляющую последовательность (стоп-триплет или стоп-кодон). Синтез белка останавливается, нити ДНК снова скручиваются, а к скопированной нити создаётся её \"зеркальная копия\".  \n",
    "Поэтому нам интересна зависимость частоты встречаемости комплементарных нуклеотидов, построим соответствующие графики.  \n",
    "Здесь мы воспользуемся функцией plot из той же библиотеки, что и выше, на вход - количество нуклеотид из соответствующей комплементарной пары (образуется точка на плоскости с соответствующими координатами)"
   ]
  },
  {
   "cell_type": "code",
   "execution_count": 10,
   "metadata": {},
   "outputs": [
    {
     "data": {
      "image/png": "[encoded data removed]",
      "text/plain": [
       "<matplotlib.figure.Figure at 0x626b053668>"
      ]
     },
     "metadata": {},
     "output_type": "display_data"
    }
   ],
   "source": [
    "plt.plot(data['A'], data['T'], 'o', alpha = 0.05)\n",
    "plt.xlabel('A')\n",
    "plt.ylabel('T')\n",
    "pass"
   ]
  },
  {
   "cell_type": "markdown",
   "metadata": {},
   "source": [
    "График наблюдений количества нуклеотидов Аденина и Тимина в отрезках ДНК длиной 60 нуклеотид"
   ]
  },
  {
   "cell_type": "code",
   "execution_count": 11,
   "metadata": {},
   "outputs": [
    {
     "data": {
      "image/png": "[encoded data removed]",
      "text/plain": [
       "<matplotlib.figure.Figure at 0x626b2fb320>"
      ]
     },
     "metadata": {},
     "output_type": "display_data"
    }
   ],
   "source": [
    "plt.plot(data['G'], data['C'], '*', alpha = 0.05, color = 'r')\n",
    "plt.xlabel('G')\n",
    "plt.ylabel('C')\n",
    "pass"
   ]
  },
  {
   "cell_type": "markdown",
   "metadata": {},
   "source": [
    "Выше - график наблюдений количества нуклеотидов Цитозина и Гуанина в отрезках ДНК длиной 60 нуклеотид"
   ]
  },
  {
   "cell_type": "markdown",
   "metadata": {
    "collapsed": true
   },
   "source": [
    "Интересно взглянуть на среднюю частоту встречаемости для каждого нуклеотида по всему множеству данных"
   ]
  },
  {
   "cell_type": "code",
   "execution_count": 12,
   "metadata": {},
   "outputs": [
    {
     "data": {
      "text/plain": [
       "A    13.0\n",
       "T    14.0\n",
       "G    15.0\n",
       "C    15.0\n",
       "D     0.0\n",
       "N     0.0\n",
       "R     0.0\n",
       "S     0.0\n",
       "dtype: float64"
      ]
     },
     "execution_count": 12,
     "metadata": {},
     "output_type": "execute_result"
    }
   ],
   "source": [
    "data.median(axis = 0)"
   ]
  },
  {
   "cell_type": "markdown",
   "metadata": {},
   "source": [
    "Постараемся определить корреляцию между имеющимися данными"
   ]
  },
  {
   "cell_type": "code",
   "execution_count": 13,
   "metadata": {},
   "outputs": [
    {
     "data": {
      "text/html": [
       "<div>\n",
       "<style>\n",
       "    .dataframe thead tr:only-child th {\n",
       "        text-align: right;\n",
       "    }\n",
       "\n",
       "    .dataframe thead th {\n",
       "        text-align: left;\n",
       "    }\n",
       "\n",
       "    .dataframe tbody tr th {\n",
       "        vertical-align: top;\n",
       "    }\n",
       "</style>\n",
       "<table border=\"1\" class=\"dataframe\">\n",
       "  <thead>\n",
       "    <tr style=\"text-align: right;\">\n",
       "      <th></th>\n",
       "      <th>A</th>\n",
       "      <th>T</th>\n",
       "      <th>G</th>\n",
       "      <th>C</th>\n",
       "      <th>D</th>\n",
       "      <th>N</th>\n",
       "      <th>R</th>\n",
       "      <th>S</th>\n",
       "    </tr>\n",
       "  </thead>\n",
       "  <tbody>\n",
       "    <tr>\n",
       "      <th>A</th>\n",
       "      <td>1.000000</td>\n",
       "      <td>0.021637</td>\n",
       "      <td>-0.317992</td>\n",
       "      <td>-0.587782</td>\n",
       "      <td>-0.019735</td>\n",
       "      <td>-0.031145</td>\n",
       "      <td>-0.013953</td>\n",
       "      <td>0.000192</td>\n",
       "    </tr>\n",
       "    <tr>\n",
       "      <th>T</th>\n",
       "      <td>0.021637</td>\n",
       "      <td>1.000000</td>\n",
       "      <td>-0.579559</td>\n",
       "      <td>-0.374532</td>\n",
       "      <td>-0.023977</td>\n",
       "      <td>-0.046278</td>\n",
       "      <td>0.018529</td>\n",
       "      <td>-0.011883</td>\n",
       "    </tr>\n",
       "    <tr>\n",
       "      <th>G</th>\n",
       "      <td>-0.317992</td>\n",
       "      <td>-0.579559</td>\n",
       "      <td>1.000000</td>\n",
       "      <td>-0.143892</td>\n",
       "      <td>0.030838</td>\n",
       "      <td>-0.042843</td>\n",
       "      <td>-0.012116</td>\n",
       "      <td>-0.012116</td>\n",
       "    </tr>\n",
       "    <tr>\n",
       "      <th>C</th>\n",
       "      <td>-0.587782</td>\n",
       "      <td>-0.374532</td>\n",
       "      <td>-0.143892</td>\n",
       "      <td>1.000000</td>\n",
       "      <td>0.005407</td>\n",
       "      <td>-0.017196</td>\n",
       "      <td>0.003823</td>\n",
       "      <td>0.019337</td>\n",
       "    </tr>\n",
       "    <tr>\n",
       "      <th>D</th>\n",
       "      <td>-0.019735</td>\n",
       "      <td>-0.023977</td>\n",
       "      <td>0.030838</td>\n",
       "      <td>0.005407</td>\n",
       "      <td>1.000000</td>\n",
       "      <td>-0.000601</td>\n",
       "      <td>-0.000444</td>\n",
       "      <td>-0.000444</td>\n",
       "    </tr>\n",
       "    <tr>\n",
       "      <th>N</th>\n",
       "      <td>-0.031145</td>\n",
       "      <td>-0.046278</td>\n",
       "      <td>-0.042843</td>\n",
       "      <td>-0.017196</td>\n",
       "      <td>-0.000601</td>\n",
       "      <td>1.000000</td>\n",
       "      <td>-0.000425</td>\n",
       "      <td>-0.000425</td>\n",
       "    </tr>\n",
       "    <tr>\n",
       "      <th>R</th>\n",
       "      <td>-0.013953</td>\n",
       "      <td>0.018529</td>\n",
       "      <td>-0.012116</td>\n",
       "      <td>0.003823</td>\n",
       "      <td>-0.000444</td>\n",
       "      <td>-0.000425</td>\n",
       "      <td>1.000000</td>\n",
       "      <td>-0.000314</td>\n",
       "    </tr>\n",
       "    <tr>\n",
       "      <th>S</th>\n",
       "      <td>0.000192</td>\n",
       "      <td>-0.011883</td>\n",
       "      <td>-0.012116</td>\n",
       "      <td>0.019337</td>\n",
       "      <td>-0.000444</td>\n",
       "      <td>-0.000425</td>\n",
       "      <td>-0.000314</td>\n",
       "      <td>1.000000</td>\n",
       "    </tr>\n",
       "  </tbody>\n",
       "</table>\n",
       "</div>"
      ],
      "text/plain": [
       "          A         T         G         C         D         N         R  \\\n",
       "A  1.000000  0.021637 -0.317992 -0.587782 -0.019735 -0.031145 -0.013953   \n",
       "T  0.021637  1.000000 -0.579559 -0.374532 -0.023977 -0.046278  0.018529   \n",
       "G -0.317992 -0.579559  1.000000 -0.143892  0.030838 -0.042843 -0.012116   \n",
       "C -0.587782 -0.374532 -0.143892  1.000000  0.005407 -0.017196  0.003823   \n",
       "D -0.019735 -0.023977  0.030838  0.005407  1.000000 -0.000601 -0.000444   \n",
       "N -0.031145 -0.046278 -0.042843 -0.017196 -0.000601  1.000000 -0.000425   \n",
       "R -0.013953  0.018529 -0.012116  0.003823 -0.000444 -0.000425  1.000000   \n",
       "S  0.000192 -0.011883 -0.012116  0.019337 -0.000444 -0.000425 -0.000314   \n",
       "\n",
       "          S  \n",
       "A  0.000192  \n",
       "T -0.011883  \n",
       "G -0.012116  \n",
       "C  0.019337  \n",
       "D -0.000444  \n",
       "N -0.000425  \n",
       "R -0.000314  \n",
       "S  1.000000  "
      ]
     },
     "execution_count": 13,
     "metadata": {},
     "output_type": "execute_result"
    }
   ],
   "source": [
    "data.corr()"
   ]
  },
  {
   "cell_type": "markdown",
   "metadata": {},
   "source": [
    "Выше представлена таблица корреляции между количеством нуклеотидов каждого вида в множестве данных  \n",
    "Оценим ее согласно приведенной таблицы:  \n",
    "\n",
    "    Значение коэффициента корреляции r \tИнтерпретация  \n",
    "                        0 < г <= 0,2 \tОчень слабая корреляция  \n",
    "                        0,2 < г <= 0,5 \tСлабая корреляция  \n",
    "                        0,5 < г <= 0,7 \tСредняя корреляция  \n",
    "                        0,7 < г <= 0,9 \tСильная корреляция  \n",
    "                        0,9 < г <= 1 \tОчень сильная корреляция  \n",
    "                        \n",
    " Отметим, что коэффициент корреляции может принимать значения в интервале [-1;1], а значения в таблице приведены по модулю  \n",
    "    Kорреляция непосредственно между комплементарными нуклеотидами - слабая, а между некомплементарными - средняя, корреляция с вариативными нуклеотидами - практически отсутствует\n",
    "   \n",
    "   Отобразим полученные результаты вграфическом виде при помощи функции scatter_matrix из библиотеки pandas"
   ]
  },
  {
   "cell_type": "code",
   "execution_count": 14,
   "metadata": {},
   "outputs": [
    {
     "name": "stderr",
     "output_type": "stream",
     "text": [
      "C:\\ProgramData\\Anaconda3\\lib\\site-packages\\ipykernel_launcher.py:2: FutureWarning: 'pandas.tools.plotting.scatter_matrix' is deprecated, import 'pandas.plotting.scatter_matrix' instead.\n",
      "  \n"
     ]
    },
    {
     "data": {
      "image/png": "[encoded data removed]",
      "text/plain": [
       "<matplotlib.figure.Figure at 0x626b395b00>"
      ]
     },
     "metadata": {},
     "output_type": "display_data"
    }
   ],
   "source": [
    "from pandas.tools.plotting import scatter_matrix\n",
    "scatter_matrix(data, alpha = .05, figsize = (10, 10))\n",
    "pass"
   ]
  },
  {
   "cell_type": "markdown",
   "metadata": {},
   "source": [
    "Графики, отображающие корреляцию в подготовленном множестве данных"
   ]
  },
  {
   "cell_type": "markdown",
   "metadata": {},
   "source": [
    "Подготовим имеющиеся данные для работы с ними"
   ]
  },
  {
   "cell_type": "markdown",
   "metadata": {},
   "source": [
    "В нашем множестве данных присутствуют как количественные, так и категориальные столбцы с данными:  \n",
    "    первые содержат численное значение, вторые - некоторое строковое, характеризующее данную запись в таблице\n",
    "Поскольку с категориальными столбцами работать не слишком удобно, хотелось бы изменить их и привести к количественному или бинарному виду  \n",
    "Поскольку в исходном наборе данных есть два категорильных столбца с высокой ~100% степенью уникальности значений, описывающих имя донора цепочки ДНК и сам отрезок ДНК, мы не будем включать их в результирующий набор  \n",
    "К бинарным столбцам мы отнесем те бывшие категориальные, где принимаемые значения можно записать в виде 0 или 1:  \n",
    "Например, тип границы сращивания (нет границы или есть, граница интрон-экзн или нет, граница экзон-интрон или нет)"
   ]
  },
  {
   "cell_type": "code",
   "execution_count": 15,
   "metadata": {},
   "outputs": [
    {
     "name": "stdout",
     "output_type": "stream",
     "text": [
      "['Type', 'stop-code']\n",
      "['A', 'T', 'G', 'C', 'D', 'N', 'R', 'S']\n",
      "[] ['Type', 'stop-code']\n",
      "Index(['Type_EI', 'Type_IE', 'Type_N', 'stop-code_None', 'stop-code_TAA',\n",
      "       'stop-code_TAG', 'stop-code_TGA'],\n",
      "      dtype='object')\n"
     ]
    }
   ],
   "source": [
    "categorical_columns = [c for c in data.columns if data[c].dtype.name == 'object' and c!='Donor' and c!='DNA']\n",
    "numerical_columns   = [c for c in data.columns if data[c].dtype.name != 'object']\n",
    "data_describe = data.describe(include = [object])\n",
    "print(categorical_columns)\n",
    "print(numerical_columns)\n",
    "binary_columns    = [c for c in categorical_columns if data_describe[c]['unique'] == 2]\n",
    "nonbinary_columns = [c for c in categorical_columns if data_describe[c]['unique'] > 2]\n",
    "print(binary_columns, nonbinary_columns)\n",
    "data_nonbinary = pd.get_dummies(data[categorical_columns])\n",
    "print(data_nonbinary.columns)"
   ]
  },
  {
   "cell_type": "markdown",
   "metadata": {},
   "source": [
    "К количественным столбцам в нашем случае относятся только столбцы частоты встречаемости нуклеотида в отрезке ДНК"
   ]
  },
  {
   "cell_type": "code",
   "execution_count": 16,
   "metadata": {},
   "outputs": [
    {
     "data": {
      "text/html": [
       "<div>\n",
       "<style>\n",
       "    .dataframe thead tr:only-child th {\n",
       "        text-align: right;\n",
       "    }\n",
       "\n",
       "    .dataframe thead th {\n",
       "        text-align: left;\n",
       "    }\n",
       "\n",
       "    .dataframe tbody tr th {\n",
       "        vertical-align: top;\n",
       "    }\n",
       "</style>\n",
       "<table border=\"1\" class=\"dataframe\">\n",
       "  <thead>\n",
       "    <tr style=\"text-align: right;\">\n",
       "      <th></th>\n",
       "      <th>A</th>\n",
       "      <th>T</th>\n",
       "      <th>G</th>\n",
       "      <th>C</th>\n",
       "      <th>D</th>\n",
       "      <th>N</th>\n",
       "      <th>R</th>\n",
       "      <th>S</th>\n",
       "    </tr>\n",
       "  </thead>\n",
       "  <tbody>\n",
       "    <tr>\n",
       "      <th>count</th>\n",
       "      <td>3190.000000</td>\n",
       "      <td>3190.000000</td>\n",
       "      <td>3190.000000</td>\n",
       "      <td>3190.000000</td>\n",
       "      <td>3190.000000</td>\n",
       "      <td>3190.000000</td>\n",
       "      <td>3190.000000</td>\n",
       "      <td>3190.000000</td>\n",
       "    </tr>\n",
       "    <tr>\n",
       "      <th>mean</th>\n",
       "      <td>13.945768</td>\n",
       "      <td>14.516614</td>\n",
       "      <td>15.750784</td>\n",
       "      <td>15.768025</td>\n",
       "      <td>0.000627</td>\n",
       "      <td>0.017555</td>\n",
       "      <td>0.000313</td>\n",
       "      <td>0.000313</td>\n",
       "    </tr>\n",
       "    <tr>\n",
       "      <th>std</th>\n",
       "      <td>5.008604</td>\n",
       "      <td>5.241326</td>\n",
       "      <td>5.482687</td>\n",
       "      <td>5.707964</td>\n",
       "      <td>0.025035</td>\n",
       "      <td>0.731630</td>\n",
       "      <td>0.017705</td>\n",
       "      <td>0.017705</td>\n",
       "    </tr>\n",
       "    <tr>\n",
       "      <th>min</th>\n",
       "      <td>0.000000</td>\n",
       "      <td>0.000000</td>\n",
       "      <td>0.000000</td>\n",
       "      <td>0.000000</td>\n",
       "      <td>0.000000</td>\n",
       "      <td>0.000000</td>\n",
       "      <td>0.000000</td>\n",
       "      <td>0.000000</td>\n",
       "    </tr>\n",
       "    <tr>\n",
       "      <th>25%</th>\n",
       "      <td>10.000000</td>\n",
       "      <td>11.000000</td>\n",
       "      <td>12.000000</td>\n",
       "      <td>12.000000</td>\n",
       "      <td>0.000000</td>\n",
       "      <td>0.000000</td>\n",
       "      <td>0.000000</td>\n",
       "      <td>0.000000</td>\n",
       "    </tr>\n",
       "    <tr>\n",
       "      <th>50%</th>\n",
       "      <td>13.000000</td>\n",
       "      <td>14.000000</td>\n",
       "      <td>15.000000</td>\n",
       "      <td>15.000000</td>\n",
       "      <td>0.000000</td>\n",
       "      <td>0.000000</td>\n",
       "      <td>0.000000</td>\n",
       "      <td>0.000000</td>\n",
       "    </tr>\n",
       "    <tr>\n",
       "      <th>75%</th>\n",
       "      <td>17.000000</td>\n",
       "      <td>18.000000</td>\n",
       "      <td>19.000000</td>\n",
       "      <td>20.000000</td>\n",
       "      <td>0.000000</td>\n",
       "      <td>0.000000</td>\n",
       "      <td>0.000000</td>\n",
       "      <td>0.000000</td>\n",
       "    </tr>\n",
       "    <tr>\n",
       "      <th>max</th>\n",
       "      <td>44.000000</td>\n",
       "      <td>44.000000</td>\n",
       "      <td>37.000000</td>\n",
       "      <td>40.000000</td>\n",
       "      <td>1.000000</td>\n",
       "      <td>41.000000</td>\n",
       "      <td>1.000000</td>\n",
       "      <td>1.000000</td>\n",
       "    </tr>\n",
       "  </tbody>\n",
       "</table>\n",
       "</div>"
      ],
      "text/plain": [
       "                 A            T            G            C            D  \\\n",
       "count  3190.000000  3190.000000  3190.000000  3190.000000  3190.000000   \n",
       "mean     13.945768    14.516614    15.750784    15.768025     0.000627   \n",
       "std       5.008604     5.241326     5.482687     5.707964     0.025035   \n",
       "min       0.000000     0.000000     0.000000     0.000000     0.000000   \n",
       "25%      10.000000    11.000000    12.000000    12.000000     0.000000   \n",
       "50%      13.000000    14.000000    15.000000    15.000000     0.000000   \n",
       "75%      17.000000    18.000000    19.000000    20.000000     0.000000   \n",
       "max      44.000000    44.000000    37.000000    40.000000     1.000000   \n",
       "\n",
       "                 N            R            S  \n",
       "count  3190.000000  3190.000000  3190.000000  \n",
       "mean      0.017555     0.000313     0.000313  \n",
       "std       0.731630     0.017705     0.017705  \n",
       "min       0.000000     0.000000     0.000000  \n",
       "25%       0.000000     0.000000     0.000000  \n",
       "50%       0.000000     0.000000     0.000000  \n",
       "75%       0.000000     0.000000     0.000000  \n",
       "max      41.000000     1.000000     1.000000  "
      ]
     },
     "execution_count": 16,
     "metadata": {},
     "output_type": "execute_result"
    }
   ],
   "source": [
    "data_numerical = data[numerical_columns]\n",
    "data_numerical.describe()"
   ]
  },
  {
   "cell_type": "markdown",
   "metadata": {},
   "source": [
    "Таблица, содержащая информацию о данныч из количественных столбцов множества"
   ]
  },
  {
   "cell_type": "markdown",
   "metadata": {},
   "source": [
    "Для удобства и простоты работы хотелось бы такие значения нормализовать\n",
    "Кроме того, заметим, что в нашем наборе отсутствуют пропущенные значения, что не может не радовать))"
   ]
  },
  {
   "cell_type": "code",
   "execution_count": 17,
   "metadata": {
    "collapsed": true
   },
   "outputs": [],
   "source": [
    "data_numerical = (data_numerical - data_numerical.mean(axis = 0))/data_numerical.std(axis = 0)"
   ]
  },
  {
   "cell_type": "code",
   "execution_count": 18,
   "metadata": {},
   "outputs": [
    {
     "data": {
      "text/html": [
       "<div>\n",
       "<style>\n",
       "    .dataframe thead tr:only-child th {\n",
       "        text-align: right;\n",
       "    }\n",
       "\n",
       "    .dataframe thead th {\n",
       "        text-align: left;\n",
       "    }\n",
       "\n",
       "    .dataframe tbody tr th {\n",
       "        vertical-align: top;\n",
       "    }\n",
       "</style>\n",
       "<table border=\"1\" class=\"dataframe\">\n",
       "  <thead>\n",
       "    <tr style=\"text-align: right;\">\n",
       "      <th></th>\n",
       "      <th>A</th>\n",
       "      <th>T</th>\n",
       "      <th>G</th>\n",
       "      <th>C</th>\n",
       "      <th>D</th>\n",
       "      <th>N</th>\n",
       "      <th>R</th>\n",
       "      <th>S</th>\n",
       "    </tr>\n",
       "  </thead>\n",
       "  <tbody>\n",
       "    <tr>\n",
       "      <th>count</th>\n",
       "      <td>3.190000e+03</td>\n",
       "      <td>3.190000e+03</td>\n",
       "      <td>3.190000e+03</td>\n",
       "      <td>3.190000e+03</td>\n",
       "      <td>3.190000e+03</td>\n",
       "      <td>3.190000e+03</td>\n",
       "      <td>3.190000e+03</td>\n",
       "      <td>3.190000e+03</td>\n",
       "    </tr>\n",
       "    <tr>\n",
       "      <th>mean</th>\n",
       "      <td>-1.405006e-16</td>\n",
       "      <td>2.143879e-17</td>\n",
       "      <td>4.750641e-17</td>\n",
       "      <td>4.161422e-16</td>\n",
       "      <td>-2.984051e-16</td>\n",
       "      <td>4.191005e-16</td>\n",
       "      <td>-1.934777e-16</td>\n",
       "      <td>-1.934777e-16</td>\n",
       "    </tr>\n",
       "    <tr>\n",
       "      <th>std</th>\n",
       "      <td>1.000000e+00</td>\n",
       "      <td>1.000000e+00</td>\n",
       "      <td>1.000000e+00</td>\n",
       "      <td>1.000000e+00</td>\n",
       "      <td>1.000000e+00</td>\n",
       "      <td>1.000000e+00</td>\n",
       "      <td>1.000000e+00</td>\n",
       "      <td>1.000000e+00</td>\n",
       "    </tr>\n",
       "    <tr>\n",
       "      <th>min</th>\n",
       "      <td>-2.784362e+00</td>\n",
       "      <td>-2.769645e+00</td>\n",
       "      <td>-2.872822e+00</td>\n",
       "      <td>-2.762461e+00</td>\n",
       "      <td>-2.504308e-02</td>\n",
       "      <td>-2.399417e-02</td>\n",
       "      <td>-1.770536e-02</td>\n",
       "      <td>-1.770536e-02</td>\n",
       "    </tr>\n",
       "    <tr>\n",
       "      <th>25%</th>\n",
       "      <td>-7.877980e-01</td>\n",
       "      <td>-6.709398e-01</td>\n",
       "      <td>-6.841142e-01</td>\n",
       "      <td>-6.601347e-01</td>\n",
       "      <td>-2.504308e-02</td>\n",
       "      <td>-2.399417e-02</td>\n",
       "      <td>-1.770536e-02</td>\n",
       "      <td>-1.770536e-02</td>\n",
       "    </tr>\n",
       "    <tr>\n",
       "      <th>50%</th>\n",
       "      <td>-1.888287e-01</td>\n",
       "      <td>-9.856559e-02</td>\n",
       "      <td>-1.369372e-01</td>\n",
       "      <td>-1.345532e-01</td>\n",
       "      <td>-2.504308e-02</td>\n",
       "      <td>-2.399417e-02</td>\n",
       "      <td>-1.770536e-02</td>\n",
       "      <td>-1.770536e-02</td>\n",
       "    </tr>\n",
       "    <tr>\n",
       "      <th>75%</th>\n",
       "      <td>6.097971e-01</td>\n",
       "      <td>6.646000e-01</td>\n",
       "      <td>5.926321e-01</td>\n",
       "      <td>7.414158e-01</td>\n",
       "      <td>-2.504308e-02</td>\n",
       "      <td>-2.399417e-02</td>\n",
       "      <td>-1.770536e-02</td>\n",
       "      <td>-1.770536e-02</td>\n",
       "    </tr>\n",
       "    <tr>\n",
       "      <th>max</th>\n",
       "      <td>6.000521e+00</td>\n",
       "      <td>5.625176e+00</td>\n",
       "      <td>3.875694e+00</td>\n",
       "      <td>4.245292e+00</td>\n",
       "      <td>3.991867e+01</td>\n",
       "      <td>5.601524e+01</td>\n",
       "      <td>5.646238e+01</td>\n",
       "      <td>5.646238e+01</td>\n",
       "    </tr>\n",
       "  </tbody>\n",
       "</table>\n",
       "</div>"
      ],
      "text/plain": [
       "                  A             T             G             C             D  \\\n",
       "count  3.190000e+03  3.190000e+03  3.190000e+03  3.190000e+03  3.190000e+03   \n",
       "mean  -1.405006e-16  2.143879e-17  4.750641e-17  4.161422e-16 -2.984051e-16   \n",
       "std    1.000000e+00  1.000000e+00  1.000000e+00  1.000000e+00  1.000000e+00   \n",
       "min   -2.784362e+00 -2.769645e+00 -2.872822e+00 -2.762461e+00 -2.504308e-02   \n",
       "25%   -7.877980e-01 -6.709398e-01 -6.841142e-01 -6.601347e-01 -2.504308e-02   \n",
       "50%   -1.888287e-01 -9.856559e-02 -1.369372e-01 -1.345532e-01 -2.504308e-02   \n",
       "75%    6.097971e-01  6.646000e-01  5.926321e-01  7.414158e-01 -2.504308e-02   \n",
       "max    6.000521e+00  5.625176e+00  3.875694e+00  4.245292e+00  3.991867e+01   \n",
       "\n",
       "                  N             R             S  \n",
       "count  3.190000e+03  3.190000e+03  3.190000e+03  \n",
       "mean   4.191005e-16 -1.934777e-16 -1.934777e-16  \n",
       "std    1.000000e+00  1.000000e+00  1.000000e+00  \n",
       "min   -2.399417e-02 -1.770536e-02 -1.770536e-02  \n",
       "25%   -2.399417e-02 -1.770536e-02 -1.770536e-02  \n",
       "50%   -2.399417e-02 -1.770536e-02 -1.770536e-02  \n",
       "75%   -2.399417e-02 -1.770536e-02 -1.770536e-02  \n",
       "max    5.601524e+01  5.646238e+01  5.646238e+01  "
      ]
     },
     "execution_count": 18,
     "metadata": {},
     "output_type": "execute_result"
    }
   ],
   "source": [
    "data_numerical.describe()"
   ]
  },
  {
   "cell_type": "markdown",
   "metadata": {},
   "source": [
    "Выше - таблица, содержащая информацию данных в количественных столбцах множества после нормирования"
   ]
  },
  {
   "cell_type": "markdown",
   "metadata": {
    "collapsed": true
   },
   "source": [
    "Теперь объединим обе части таблицы (количественную и бывшую категориальную в одну)"
   ]
  },
  {
   "cell_type": "code",
   "execution_count": 19,
   "metadata": {
    "collapsed": true
   },
   "outputs": [],
   "source": [
    "data = pd.concat((data_numerical, data_nonbinary, data[binary_columns]), axis = 1)\n"
   ]
  },
  {
   "cell_type": "code",
   "execution_count": 20,
   "metadata": {
    "scrolled": true
   },
   "outputs": [
    {
     "data": {
      "text/html": [
       "<div>\n",
       "<style>\n",
       "    .dataframe thead tr:only-child th {\n",
       "        text-align: right;\n",
       "    }\n",
       "\n",
       "    .dataframe thead th {\n",
       "        text-align: left;\n",
       "    }\n",
       "\n",
       "    .dataframe tbody tr th {\n",
       "        vertical-align: top;\n",
       "    }\n",
       "</style>\n",
       "<table border=\"1\" class=\"dataframe\">\n",
       "  <thead>\n",
       "    <tr style=\"text-align: right;\">\n",
       "      <th></th>\n",
       "      <th>A</th>\n",
       "      <th>T</th>\n",
       "      <th>G</th>\n",
       "      <th>C</th>\n",
       "      <th>D</th>\n",
       "      <th>N</th>\n",
       "      <th>R</th>\n",
       "      <th>S</th>\n",
       "      <th>Type_EI</th>\n",
       "      <th>Type_IE</th>\n",
       "      <th>Type_N</th>\n",
       "      <th>stop-code_None</th>\n",
       "      <th>stop-code_TAA</th>\n",
       "      <th>stop-code_TAG</th>\n",
       "      <th>stop-code_TGA</th>\n",
       "    </tr>\n",
       "  </thead>\n",
       "  <tbody>\n",
       "    <tr>\n",
       "      <th>count</th>\n",
       "      <td>3.190000e+03</td>\n",
       "      <td>3.190000e+03</td>\n",
       "      <td>3.190000e+03</td>\n",
       "      <td>3.190000e+03</td>\n",
       "      <td>3.190000e+03</td>\n",
       "      <td>3.190000e+03</td>\n",
       "      <td>3.190000e+03</td>\n",
       "      <td>3.190000e+03</td>\n",
       "      <td>3190.000000</td>\n",
       "      <td>3190.000000</td>\n",
       "      <td>3190.000000</td>\n",
       "      <td>3190.000000</td>\n",
       "      <td>3190.000000</td>\n",
       "      <td>3190.000000</td>\n",
       "      <td>3190.000000</td>\n",
       "    </tr>\n",
       "    <tr>\n",
       "      <th>mean</th>\n",
       "      <td>-1.405006e-16</td>\n",
       "      <td>2.143879e-17</td>\n",
       "      <td>4.750641e-17</td>\n",
       "      <td>4.161422e-16</td>\n",
       "      <td>-2.984051e-16</td>\n",
       "      <td>4.191005e-16</td>\n",
       "      <td>-1.934777e-16</td>\n",
       "      <td>-1.934777e-16</td>\n",
       "      <td>0.240439</td>\n",
       "      <td>0.240752</td>\n",
       "      <td>0.518809</td>\n",
       "      <td>0.653605</td>\n",
       "      <td>0.128840</td>\n",
       "      <td>0.077116</td>\n",
       "      <td>0.140439</td>\n",
       "    </tr>\n",
       "    <tr>\n",
       "      <th>std</th>\n",
       "      <td>1.000000e+00</td>\n",
       "      <td>1.000000e+00</td>\n",
       "      <td>1.000000e+00</td>\n",
       "      <td>1.000000e+00</td>\n",
       "      <td>1.000000e+00</td>\n",
       "      <td>1.000000e+00</td>\n",
       "      <td>1.000000e+00</td>\n",
       "      <td>1.000000e+00</td>\n",
       "      <td>0.427417</td>\n",
       "      <td>0.427607</td>\n",
       "      <td>0.499724</td>\n",
       "      <td>0.475895</td>\n",
       "      <td>0.335075</td>\n",
       "      <td>0.266817</td>\n",
       "      <td>0.347496</td>\n",
       "    </tr>\n",
       "    <tr>\n",
       "      <th>min</th>\n",
       "      <td>-2.784362e+00</td>\n",
       "      <td>-2.769645e+00</td>\n",
       "      <td>-2.872822e+00</td>\n",
       "      <td>-2.762461e+00</td>\n",
       "      <td>-2.504308e-02</td>\n",
       "      <td>-2.399417e-02</td>\n",
       "      <td>-1.770536e-02</td>\n",
       "      <td>-1.770536e-02</td>\n",
       "      <td>0.000000</td>\n",
       "      <td>0.000000</td>\n",
       "      <td>0.000000</td>\n",
       "      <td>0.000000</td>\n",
       "      <td>0.000000</td>\n",
       "      <td>0.000000</td>\n",
       "      <td>0.000000</td>\n",
       "    </tr>\n",
       "    <tr>\n",
       "      <th>25%</th>\n",
       "      <td>-7.877980e-01</td>\n",
       "      <td>-6.709398e-01</td>\n",
       "      <td>-6.841142e-01</td>\n",
       "      <td>-6.601347e-01</td>\n",
       "      <td>-2.504308e-02</td>\n",
       "      <td>-2.399417e-02</td>\n",
       "      <td>-1.770536e-02</td>\n",
       "      <td>-1.770536e-02</td>\n",
       "      <td>0.000000</td>\n",
       "      <td>0.000000</td>\n",
       "      <td>0.000000</td>\n",
       "      <td>0.000000</td>\n",
       "      <td>0.000000</td>\n",
       "      <td>0.000000</td>\n",
       "      <td>0.000000</td>\n",
       "    </tr>\n",
       "    <tr>\n",
       "      <th>50%</th>\n",
       "      <td>-1.888287e-01</td>\n",
       "      <td>-9.856559e-02</td>\n",
       "      <td>-1.369372e-01</td>\n",
       "      <td>-1.345532e-01</td>\n",
       "      <td>-2.504308e-02</td>\n",
       "      <td>-2.399417e-02</td>\n",
       "      <td>-1.770536e-02</td>\n",
       "      <td>-1.770536e-02</td>\n",
       "      <td>0.000000</td>\n",
       "      <td>0.000000</td>\n",
       "      <td>1.000000</td>\n",
       "      <td>1.000000</td>\n",
       "      <td>0.000000</td>\n",
       "      <td>0.000000</td>\n",
       "      <td>0.000000</td>\n",
       "    </tr>\n",
       "    <tr>\n",
       "      <th>75%</th>\n",
       "      <td>6.097971e-01</td>\n",
       "      <td>6.646000e-01</td>\n",
       "      <td>5.926321e-01</td>\n",
       "      <td>7.414158e-01</td>\n",
       "      <td>-2.504308e-02</td>\n",
       "      <td>-2.399417e-02</td>\n",
       "      <td>-1.770536e-02</td>\n",
       "      <td>-1.770536e-02</td>\n",
       "      <td>0.000000</td>\n",
       "      <td>0.000000</td>\n",
       "      <td>1.000000</td>\n",
       "      <td>1.000000</td>\n",
       "      <td>0.000000</td>\n",
       "      <td>0.000000</td>\n",
       "      <td>0.000000</td>\n",
       "    </tr>\n",
       "    <tr>\n",
       "      <th>max</th>\n",
       "      <td>6.000521e+00</td>\n",
       "      <td>5.625176e+00</td>\n",
       "      <td>3.875694e+00</td>\n",
       "      <td>4.245292e+00</td>\n",
       "      <td>3.991867e+01</td>\n",
       "      <td>5.601524e+01</td>\n",
       "      <td>5.646238e+01</td>\n",
       "      <td>5.646238e+01</td>\n",
       "      <td>1.000000</td>\n",
       "      <td>1.000000</td>\n",
       "      <td>1.000000</td>\n",
       "      <td>1.000000</td>\n",
       "      <td>1.000000</td>\n",
       "      <td>1.000000</td>\n",
       "      <td>1.000000</td>\n",
       "    </tr>\n",
       "  </tbody>\n",
       "</table>\n",
       "</div>"
      ],
      "text/plain": [
       "                  A             T             G             C             D  \\\n",
       "count  3.190000e+03  3.190000e+03  3.190000e+03  3.190000e+03  3.190000e+03   \n",
       "mean  -1.405006e-16  2.143879e-17  4.750641e-17  4.161422e-16 -2.984051e-16   \n",
       "std    1.000000e+00  1.000000e+00  1.000000e+00  1.000000e+00  1.000000e+00   \n",
       "min   -2.784362e+00 -2.769645e+00 -2.872822e+00 -2.762461e+00 -2.504308e-02   \n",
       "25%   -7.877980e-01 -6.709398e-01 -6.841142e-01 -6.601347e-01 -2.504308e-02   \n",
       "50%   -1.888287e-01 -9.856559e-02 -1.369372e-01 -1.345532e-01 -2.504308e-02   \n",
       "75%    6.097971e-01  6.646000e-01  5.926321e-01  7.414158e-01 -2.504308e-02   \n",
       "max    6.000521e+00  5.625176e+00  3.875694e+00  4.245292e+00  3.991867e+01   \n",
       "\n",
       "                  N             R             S      Type_EI      Type_IE  \\\n",
       "count  3.190000e+03  3.190000e+03  3.190000e+03  3190.000000  3190.000000   \n",
       "mean   4.191005e-16 -1.934777e-16 -1.934777e-16     0.240439     0.240752   \n",
       "std    1.000000e+00  1.000000e+00  1.000000e+00     0.427417     0.427607   \n",
       "min   -2.399417e-02 -1.770536e-02 -1.770536e-02     0.000000     0.000000   \n",
       "25%   -2.399417e-02 -1.770536e-02 -1.770536e-02     0.000000     0.000000   \n",
       "50%   -2.399417e-02 -1.770536e-02 -1.770536e-02     0.000000     0.000000   \n",
       "75%   -2.399417e-02 -1.770536e-02 -1.770536e-02     0.000000     0.000000   \n",
       "max    5.601524e+01  5.646238e+01  5.646238e+01     1.000000     1.000000   \n",
       "\n",
       "            Type_N  stop-code_None  stop-code_TAA  stop-code_TAG  \\\n",
       "count  3190.000000     3190.000000    3190.000000    3190.000000   \n",
       "mean      0.518809        0.653605       0.128840       0.077116   \n",
       "std       0.499724        0.475895       0.335075       0.266817   \n",
       "min       0.000000        0.000000       0.000000       0.000000   \n",
       "25%       0.000000        0.000000       0.000000       0.000000   \n",
       "50%       1.000000        1.000000       0.000000       0.000000   \n",
       "75%       1.000000        1.000000       0.000000       0.000000   \n",
       "max       1.000000        1.000000       1.000000       1.000000   \n",
       "\n",
       "       stop-code_TGA  \n",
       "count    3190.000000  \n",
       "mean        0.140439  \n",
       "std         0.347496  \n",
       "min         0.000000  \n",
       "25%         0.000000  \n",
       "50%         0.000000  \n",
       "75%         0.000000  \n",
       "max         1.000000  "
      ]
     },
     "execution_count": 20,
     "metadata": {},
     "output_type": "execute_result"
    }
   ],
   "source": [
    "data.describe()"
   ]
  },
  {
   "cell_type": "markdown",
   "metadata": {},
   "source": [
    "Выше - информация об общей подготовленной таблице с данными, предназначенными для классификации"
   ]
  },
  {
   "cell_type": "markdown",
   "metadata": {},
   "source": [
    "Поскольку перед нами стоит задача классификации, создадим столбец, указывающий к какому классу (ei,ie,n) относится данная строка в таблице\n",
    "Разобъём множество данных на тестовую и обучающую выборки"
   ]
  },
  {
   "cell_type": "code",
   "execution_count": 21,
   "metadata": {},
   "outputs": [
    {
     "name": "stdout",
     "output_type": "stream",
     "text": [
      "2233 957\n"
     ]
    }
   ],
   "source": [
    "X = data\n",
    "Y = [0 for i in range(len(data))]\n",
    "for i in range(len(data)):\n",
    "    if data['Type_EI'][i]==1:\n",
    "        Y[i]=1\n",
    "    if data['Type_IE'][i]==1:\n",
    "        Y[i]=2\n",
    "    if data['Type_N'][i]==1:\n",
    "        Y[i]=3\n",
    "feature_names = X.columns\n",
    "from sklearn.model_selection import train_test_split\n",
    "X_train, X_test, y_train, y_test = train_test_split(X, Y,test_size = 0.3, random_state = 1)\n",
    "\n",
    "N_train, _ = X_train.shape \n",
    "N_test,  _ = X_test.shape \n",
    "\n",
    "print(N_train, N_test)"
   ]
  },
  {
   "cell_type": "code",
   "execution_count": 22,
   "metadata": {},
   "outputs": [
    {
     "data": {
      "text/html": [
       "<div>\n",
       "<style>\n",
       "    .dataframe thead tr:only-child th {\n",
       "        text-align: right;\n",
       "    }\n",
       "\n",
       "    .dataframe thead th {\n",
       "        text-align: left;\n",
       "    }\n",
       "\n",
       "    .dataframe tbody tr th {\n",
       "        vertical-align: top;\n",
       "    }\n",
       "</style>\n",
       "<table border=\"1\" class=\"dataframe\">\n",
       "  <thead>\n",
       "    <tr style=\"text-align: right;\">\n",
       "      <th></th>\n",
       "      <th>A</th>\n",
       "      <th>T</th>\n",
       "      <th>G</th>\n",
       "      <th>C</th>\n",
       "      <th>D</th>\n",
       "      <th>N</th>\n",
       "      <th>R</th>\n",
       "      <th>S</th>\n",
       "      <th>Type_EI</th>\n",
       "      <th>Type_IE</th>\n",
       "      <th>Type_N</th>\n",
       "      <th>stop-code_None</th>\n",
       "      <th>stop-code_TAA</th>\n",
       "      <th>stop-code_TAG</th>\n",
       "      <th>stop-code_TGA</th>\n",
       "    </tr>\n",
       "  </thead>\n",
       "  <tbody>\n",
       "    <tr>\n",
       "      <th>1675</th>\n",
       "      <td>-0.388485</td>\n",
       "      <td>1.236974</td>\n",
       "      <td>0.957417</td>\n",
       "      <td>-1.711298</td>\n",
       "      <td>-0.025043</td>\n",
       "      <td>-0.023994</td>\n",
       "      <td>-0.017705</td>\n",
       "      <td>-0.017705</td>\n",
       "      <td>0</td>\n",
       "      <td>0</td>\n",
       "      <td>1</td>\n",
       "      <td>1</td>\n",
       "      <td>0</td>\n",
       "      <td>0</td>\n",
       "      <td>0</td>\n",
       "    </tr>\n",
       "    <tr>\n",
       "      <th>1002</th>\n",
       "      <td>0.010828</td>\n",
       "      <td>-1.052523</td>\n",
       "      <td>-0.319330</td>\n",
       "      <td>1.266997</td>\n",
       "      <td>-0.025043</td>\n",
       "      <td>-0.023994</td>\n",
       "      <td>-0.017705</td>\n",
       "      <td>-0.017705</td>\n",
       "      <td>0</td>\n",
       "      <td>1</td>\n",
       "      <td>0</td>\n",
       "      <td>1</td>\n",
       "      <td>0</td>\n",
       "      <td>0</td>\n",
       "      <td>0</td>\n",
       "    </tr>\n",
       "    <tr>\n",
       "      <th>2708</th>\n",
       "      <td>-0.987454</td>\n",
       "      <td>-0.861731</td>\n",
       "      <td>0.775024</td>\n",
       "      <td>0.916610</td>\n",
       "      <td>-0.025043</td>\n",
       "      <td>-0.023994</td>\n",
       "      <td>-0.017705</td>\n",
       "      <td>-0.017705</td>\n",
       "      <td>0</td>\n",
       "      <td>0</td>\n",
       "      <td>1</td>\n",
       "      <td>1</td>\n",
       "      <td>0</td>\n",
       "      <td>0</td>\n",
       "      <td>0</td>\n",
       "    </tr>\n",
       "    <tr>\n",
       "      <th>13</th>\n",
       "      <td>0.010828</td>\n",
       "      <td>0.283017</td>\n",
       "      <td>0.592632</td>\n",
       "      <td>-0.835329</td>\n",
       "      <td>-0.025043</td>\n",
       "      <td>-0.023994</td>\n",
       "      <td>-0.017705</td>\n",
       "      <td>-0.017705</td>\n",
       "      <td>1</td>\n",
       "      <td>0</td>\n",
       "      <td>0</td>\n",
       "      <td>0</td>\n",
       "      <td>0</td>\n",
       "      <td>0</td>\n",
       "      <td>1</td>\n",
       "    </tr>\n",
       "    <tr>\n",
       "      <th>45</th>\n",
       "      <td>-0.388485</td>\n",
       "      <td>-0.289357</td>\n",
       "      <td>0.957417</td>\n",
       "      <td>-0.309747</td>\n",
       "      <td>-0.025043</td>\n",
       "      <td>-0.023994</td>\n",
       "      <td>-0.017705</td>\n",
       "      <td>-0.017705</td>\n",
       "      <td>1</td>\n",
       "      <td>0</td>\n",
       "      <td>0</td>\n",
       "      <td>0</td>\n",
       "      <td>0</td>\n",
       "      <td>0</td>\n",
       "      <td>1</td>\n",
       "    </tr>\n",
       "    <tr>\n",
       "      <th>2684</th>\n",
       "      <td>-0.787798</td>\n",
       "      <td>-0.861731</td>\n",
       "      <td>-0.136937</td>\n",
       "      <td>1.617385</td>\n",
       "      <td>-0.025043</td>\n",
       "      <td>-0.023994</td>\n",
       "      <td>-0.017705</td>\n",
       "      <td>-0.017705</td>\n",
       "      <td>0</td>\n",
       "      <td>0</td>\n",
       "      <td>1</td>\n",
       "      <td>1</td>\n",
       "      <td>0</td>\n",
       "      <td>0</td>\n",
       "      <td>0</td>\n",
       "    </tr>\n",
       "    <tr>\n",
       "      <th>2682</th>\n",
       "      <td>-0.987454</td>\n",
       "      <td>-0.289357</td>\n",
       "      <td>-0.319330</td>\n",
       "      <td>1.442191</td>\n",
       "      <td>-0.025043</td>\n",
       "      <td>-0.023994</td>\n",
       "      <td>-0.017705</td>\n",
       "      <td>-0.017705</td>\n",
       "      <td>0</td>\n",
       "      <td>0</td>\n",
       "      <td>1</td>\n",
       "      <td>1</td>\n",
       "      <td>0</td>\n",
       "      <td>0</td>\n",
       "      <td>0</td>\n",
       "    </tr>\n",
       "    <tr>\n",
       "      <th>2087</th>\n",
       "      <td>-0.588142</td>\n",
       "      <td>1.046183</td>\n",
       "      <td>0.227847</td>\n",
       "      <td>-0.660135</td>\n",
       "      <td>-0.025043</td>\n",
       "      <td>-0.023994</td>\n",
       "      <td>-0.017705</td>\n",
       "      <td>-0.017705</td>\n",
       "      <td>0</td>\n",
       "      <td>0</td>\n",
       "      <td>1</td>\n",
       "      <td>1</td>\n",
       "      <td>0</td>\n",
       "      <td>0</td>\n",
       "      <td>0</td>\n",
       "    </tr>\n",
       "    <tr>\n",
       "      <th>282</th>\n",
       "      <td>-1.586424</td>\n",
       "      <td>-1.434105</td>\n",
       "      <td>2.051771</td>\n",
       "      <td>0.741416</td>\n",
       "      <td>-0.025043</td>\n",
       "      <td>-0.023994</td>\n",
       "      <td>-0.017705</td>\n",
       "      <td>-0.017705</td>\n",
       "      <td>1</td>\n",
       "      <td>0</td>\n",
       "      <td>0</td>\n",
       "      <td>0</td>\n",
       "      <td>0</td>\n",
       "      <td>0</td>\n",
       "      <td>1</td>\n",
       "    </tr>\n",
       "    <tr>\n",
       "      <th>2256</th>\n",
       "      <td>-0.987454</td>\n",
       "      <td>1.427766</td>\n",
       "      <td>-0.684114</td>\n",
       "      <td>0.215834</td>\n",
       "      <td>-0.025043</td>\n",
       "      <td>-0.023994</td>\n",
       "      <td>-0.017705</td>\n",
       "      <td>-0.017705</td>\n",
       "      <td>0</td>\n",
       "      <td>0</td>\n",
       "      <td>1</td>\n",
       "      <td>1</td>\n",
       "      <td>0</td>\n",
       "      <td>0</td>\n",
       "      <td>0</td>\n",
       "    </tr>\n",
       "    <tr>\n",
       "      <th>1780</th>\n",
       "      <td>-0.588142</td>\n",
       "      <td>-0.480148</td>\n",
       "      <td>1.322201</td>\n",
       "      <td>-0.309747</td>\n",
       "      <td>-0.025043</td>\n",
       "      <td>-0.023994</td>\n",
       "      <td>-0.017705</td>\n",
       "      <td>-0.017705</td>\n",
       "      <td>0</td>\n",
       "      <td>0</td>\n",
       "      <td>1</td>\n",
       "      <td>1</td>\n",
       "      <td>0</td>\n",
       "      <td>0</td>\n",
       "      <td>0</td>\n",
       "    </tr>\n",
       "    <tr>\n",
       "      <th>161</th>\n",
       "      <td>-0.588142</td>\n",
       "      <td>-0.480148</td>\n",
       "      <td>-0.136937</td>\n",
       "      <td>1.091803</td>\n",
       "      <td>-0.025043</td>\n",
       "      <td>-0.023994</td>\n",
       "      <td>-0.017705</td>\n",
       "      <td>-0.017705</td>\n",
       "      <td>1</td>\n",
       "      <td>0</td>\n",
       "      <td>0</td>\n",
       "      <td>1</td>\n",
       "      <td>0</td>\n",
       "      <td>0</td>\n",
       "      <td>0</td>\n",
       "    </tr>\n",
       "    <tr>\n",
       "      <th>584</th>\n",
       "      <td>-0.588142</td>\n",
       "      <td>-0.861731</td>\n",
       "      <td>1.322201</td>\n",
       "      <td>0.040641</td>\n",
       "      <td>-0.025043</td>\n",
       "      <td>-0.023994</td>\n",
       "      <td>-0.017705</td>\n",
       "      <td>-0.017705</td>\n",
       "      <td>1</td>\n",
       "      <td>0</td>\n",
       "      <td>0</td>\n",
       "      <td>0</td>\n",
       "      <td>0</td>\n",
       "      <td>1</td>\n",
       "      <td>0</td>\n",
       "    </tr>\n",
       "    <tr>\n",
       "      <th>1404</th>\n",
       "      <td>-0.787798</td>\n",
       "      <td>1.809348</td>\n",
       "      <td>-0.136937</td>\n",
       "      <td>-0.835329</td>\n",
       "      <td>-0.025043</td>\n",
       "      <td>-0.023994</td>\n",
       "      <td>-0.017705</td>\n",
       "      <td>-0.017705</td>\n",
       "      <td>0</td>\n",
       "      <td>1</td>\n",
       "      <td>0</td>\n",
       "      <td>0</td>\n",
       "      <td>0</td>\n",
       "      <td>1</td>\n",
       "      <td>0</td>\n",
       "    </tr>\n",
       "    <tr>\n",
       "      <th>1178</th>\n",
       "      <td>0.410141</td>\n",
       "      <td>1.046183</td>\n",
       "      <td>-1.413683</td>\n",
       "      <td>0.040641</td>\n",
       "      <td>-0.025043</td>\n",
       "      <td>-0.023994</td>\n",
       "      <td>-0.017705</td>\n",
       "      <td>-0.017705</td>\n",
       "      <td>0</td>\n",
       "      <td>1</td>\n",
       "      <td>0</td>\n",
       "      <td>0</td>\n",
       "      <td>1</td>\n",
       "      <td>0</td>\n",
       "      <td>0</td>\n",
       "    </tr>\n",
       "    <tr>\n",
       "      <th>442</th>\n",
       "      <td>0.010828</td>\n",
       "      <td>-0.098566</td>\n",
       "      <td>0.227847</td>\n",
       "      <td>-0.134553</td>\n",
       "      <td>-0.025043</td>\n",
       "      <td>-0.023994</td>\n",
       "      <td>-0.017705</td>\n",
       "      <td>-0.017705</td>\n",
       "      <td>1</td>\n",
       "      <td>0</td>\n",
       "      <td>0</td>\n",
       "      <td>0</td>\n",
       "      <td>1</td>\n",
       "      <td>0</td>\n",
       "      <td>0</td>\n",
       "    </tr>\n",
       "    <tr>\n",
       "      <th>2170</th>\n",
       "      <td>-0.188829</td>\n",
       "      <td>-0.670940</td>\n",
       "      <td>0.045455</td>\n",
       "      <td>0.741416</td>\n",
       "      <td>-0.025043</td>\n",
       "      <td>-0.023994</td>\n",
       "      <td>-0.017705</td>\n",
       "      <td>-0.017705</td>\n",
       "      <td>0</td>\n",
       "      <td>0</td>\n",
       "      <td>1</td>\n",
       "      <td>1</td>\n",
       "      <td>0</td>\n",
       "      <td>0</td>\n",
       "      <td>0</td>\n",
       "    </tr>\n",
       "    <tr>\n",
       "      <th>75</th>\n",
       "      <td>2.406705</td>\n",
       "      <td>0.855391</td>\n",
       "      <td>-1.048899</td>\n",
       "      <td>-1.886491</td>\n",
       "      <td>-0.025043</td>\n",
       "      <td>-0.023994</td>\n",
       "      <td>-0.017705</td>\n",
       "      <td>-0.017705</td>\n",
       "      <td>1</td>\n",
       "      <td>0</td>\n",
       "      <td>0</td>\n",
       "      <td>0</td>\n",
       "      <td>1</td>\n",
       "      <td>0</td>\n",
       "      <td>0</td>\n",
       "    </tr>\n",
       "    <tr>\n",
       "      <th>2056</th>\n",
       "      <td>0.809453</td>\n",
       "      <td>1.236974</td>\n",
       "      <td>-0.319330</td>\n",
       "      <td>-1.536104</td>\n",
       "      <td>-0.025043</td>\n",
       "      <td>-0.023994</td>\n",
       "      <td>-0.017705</td>\n",
       "      <td>-0.017705</td>\n",
       "      <td>0</td>\n",
       "      <td>0</td>\n",
       "      <td>1</td>\n",
       "      <td>1</td>\n",
       "      <td>0</td>\n",
       "      <td>0</td>\n",
       "      <td>0</td>\n",
       "    </tr>\n",
       "    <tr>\n",
       "      <th>936</th>\n",
       "      <td>-1.386767</td>\n",
       "      <td>0.855391</td>\n",
       "      <td>-0.684114</td>\n",
       "      <td>1.091803</td>\n",
       "      <td>-0.025043</td>\n",
       "      <td>-0.023994</td>\n",
       "      <td>-0.017705</td>\n",
       "      <td>-0.017705</td>\n",
       "      <td>0</td>\n",
       "      <td>1</td>\n",
       "      <td>0</td>\n",
       "      <td>1</td>\n",
       "      <td>0</td>\n",
       "      <td>0</td>\n",
       "      <td>0</td>\n",
       "    </tr>\n",
       "    <tr>\n",
       "      <th>1502</th>\n",
       "      <td>0.410141</td>\n",
       "      <td>-0.098566</td>\n",
       "      <td>0.227847</td>\n",
       "      <td>-0.484941</td>\n",
       "      <td>-0.025043</td>\n",
       "      <td>-0.023994</td>\n",
       "      <td>-0.017705</td>\n",
       "      <td>-0.017705</td>\n",
       "      <td>0</td>\n",
       "      <td>1</td>\n",
       "      <td>0</td>\n",
       "      <td>1</td>\n",
       "      <td>0</td>\n",
       "      <td>0</td>\n",
       "      <td>0</td>\n",
       "    </tr>\n",
       "    <tr>\n",
       "      <th>1363</th>\n",
       "      <td>-0.588142</td>\n",
       "      <td>-0.289357</td>\n",
       "      <td>-0.501722</td>\n",
       "      <td>1.266997</td>\n",
       "      <td>-0.025043</td>\n",
       "      <td>-0.023994</td>\n",
       "      <td>-0.017705</td>\n",
       "      <td>-0.017705</td>\n",
       "      <td>0</td>\n",
       "      <td>1</td>\n",
       "      <td>0</td>\n",
       "      <td>0</td>\n",
       "      <td>0</td>\n",
       "      <td>1</td>\n",
       "      <td>0</td>\n",
       "    </tr>\n",
       "    <tr>\n",
       "      <th>2766</th>\n",
       "      <td>-1.786080</td>\n",
       "      <td>-1.052523</td>\n",
       "      <td>0.227847</td>\n",
       "      <td>2.318160</td>\n",
       "      <td>-0.025043</td>\n",
       "      <td>-0.023994</td>\n",
       "      <td>-0.017705</td>\n",
       "      <td>-0.017705</td>\n",
       "      <td>0</td>\n",
       "      <td>0</td>\n",
       "      <td>1</td>\n",
       "      <td>1</td>\n",
       "      <td>0</td>\n",
       "      <td>0</td>\n",
       "      <td>0</td>\n",
       "    </tr>\n",
       "    <tr>\n",
       "      <th>1415</th>\n",
       "      <td>-0.987454</td>\n",
       "      <td>-1.052523</td>\n",
       "      <td>0.227847</td>\n",
       "      <td>1.617385</td>\n",
       "      <td>-0.025043</td>\n",
       "      <td>-0.023994</td>\n",
       "      <td>-0.017705</td>\n",
       "      <td>-0.017705</td>\n",
       "      <td>0</td>\n",
       "      <td>1</td>\n",
       "      <td>0</td>\n",
       "      <td>1</td>\n",
       "      <td>0</td>\n",
       "      <td>0</td>\n",
       "      <td>0</td>\n",
       "    </tr>\n",
       "    <tr>\n",
       "      <th>318</th>\n",
       "      <td>1.009110</td>\n",
       "      <td>-1.052523</td>\n",
       "      <td>0.410240</td>\n",
       "      <td>-0.309747</td>\n",
       "      <td>-0.025043</td>\n",
       "      <td>-0.023994</td>\n",
       "      <td>-0.017705</td>\n",
       "      <td>-0.017705</td>\n",
       "      <td>1</td>\n",
       "      <td>0</td>\n",
       "      <td>0</td>\n",
       "      <td>0</td>\n",
       "      <td>0</td>\n",
       "      <td>1</td>\n",
       "      <td>0</td>\n",
       "    </tr>\n",
       "    <tr>\n",
       "      <th>1846</th>\n",
       "      <td>0.210484</td>\n",
       "      <td>-1.243314</td>\n",
       "      <td>0.592632</td>\n",
       "      <td>0.391028</td>\n",
       "      <td>-0.025043</td>\n",
       "      <td>-0.023994</td>\n",
       "      <td>-0.017705</td>\n",
       "      <td>-0.017705</td>\n",
       "      <td>0</td>\n",
       "      <td>0</td>\n",
       "      <td>1</td>\n",
       "      <td>1</td>\n",
       "      <td>0</td>\n",
       "      <td>0</td>\n",
       "      <td>0</td>\n",
       "    </tr>\n",
       "    <tr>\n",
       "      <th>979</th>\n",
       "      <td>0.210484</td>\n",
       "      <td>-1.243314</td>\n",
       "      <td>0.410240</td>\n",
       "      <td>0.566222</td>\n",
       "      <td>-0.025043</td>\n",
       "      <td>-0.023994</td>\n",
       "      <td>-0.017705</td>\n",
       "      <td>-0.017705</td>\n",
       "      <td>0</td>\n",
       "      <td>1</td>\n",
       "      <td>0</td>\n",
       "      <td>1</td>\n",
       "      <td>0</td>\n",
       "      <td>0</td>\n",
       "      <td>0</td>\n",
       "    </tr>\n",
       "    <tr>\n",
       "      <th>3185</th>\n",
       "      <td>-2.784362</td>\n",
       "      <td>3.717262</td>\n",
       "      <td>-2.872822</td>\n",
       "      <td>1.792579</td>\n",
       "      <td>-0.025043</td>\n",
       "      <td>-0.023994</td>\n",
       "      <td>-0.017705</td>\n",
       "      <td>-0.017705</td>\n",
       "      <td>0</td>\n",
       "      <td>0</td>\n",
       "      <td>1</td>\n",
       "      <td>1</td>\n",
       "      <td>0</td>\n",
       "      <td>0</td>\n",
       "      <td>0</td>\n",
       "    </tr>\n",
       "    <tr>\n",
       "      <th>3186</th>\n",
       "      <td>0.809453</td>\n",
       "      <td>-2.006480</td>\n",
       "      <td>1.139809</td>\n",
       "      <td>0.040641</td>\n",
       "      <td>-0.025043</td>\n",
       "      <td>-0.023994</td>\n",
       "      <td>-0.017705</td>\n",
       "      <td>-0.017705</td>\n",
       "      <td>0</td>\n",
       "      <td>0</td>\n",
       "      <td>1</td>\n",
       "      <td>1</td>\n",
       "      <td>0</td>\n",
       "      <td>0</td>\n",
       "      <td>0</td>\n",
       "    </tr>\n",
       "    <tr>\n",
       "      <th>3041</th>\n",
       "      <td>0.010828</td>\n",
       "      <td>-0.861731</td>\n",
       "      <td>0.410240</td>\n",
       "      <td>0.391028</td>\n",
       "      <td>-0.025043</td>\n",
       "      <td>-0.023994</td>\n",
       "      <td>-0.017705</td>\n",
       "      <td>-0.017705</td>\n",
       "      <td>0</td>\n",
       "      <td>0</td>\n",
       "      <td>1</td>\n",
       "      <td>1</td>\n",
       "      <td>0</td>\n",
       "      <td>0</td>\n",
       "      <td>0</td>\n",
       "    </tr>\n",
       "    <tr>\n",
       "      <th>...</th>\n",
       "      <td>...</td>\n",
       "      <td>...</td>\n",
       "      <td>...</td>\n",
       "      <td>...</td>\n",
       "      <td>...</td>\n",
       "      <td>...</td>\n",
       "      <td>...</td>\n",
       "      <td>...</td>\n",
       "      <td>...</td>\n",
       "      <td>...</td>\n",
       "      <td>...</td>\n",
       "      <td>...</td>\n",
       "      <td>...</td>\n",
       "      <td>...</td>\n",
       "      <td>...</td>\n",
       "    </tr>\n",
       "    <tr>\n",
       "      <th>1026</th>\n",
       "      <td>-0.987454</td>\n",
       "      <td>0.473809</td>\n",
       "      <td>-0.501722</td>\n",
       "      <td>0.916610</td>\n",
       "      <td>-0.025043</td>\n",
       "      <td>-0.023994</td>\n",
       "      <td>-0.017705</td>\n",
       "      <td>-0.017705</td>\n",
       "      <td>0</td>\n",
       "      <td>1</td>\n",
       "      <td>0</td>\n",
       "      <td>1</td>\n",
       "      <td>0</td>\n",
       "      <td>0</td>\n",
       "      <td>0</td>\n",
       "    </tr>\n",
       "    <tr>\n",
       "      <th>650</th>\n",
       "      <td>-0.987454</td>\n",
       "      <td>-1.052523</td>\n",
       "      <td>1.686986</td>\n",
       "      <td>0.215834</td>\n",
       "      <td>-0.025043</td>\n",
       "      <td>-0.023994</td>\n",
       "      <td>-0.017705</td>\n",
       "      <td>-0.017705</td>\n",
       "      <td>1</td>\n",
       "      <td>0</td>\n",
       "      <td>0</td>\n",
       "      <td>0</td>\n",
       "      <td>0</td>\n",
       "      <td>0</td>\n",
       "      <td>1</td>\n",
       "    </tr>\n",
       "    <tr>\n",
       "      <th>1169</th>\n",
       "      <td>-0.987454</td>\n",
       "      <td>1.236974</td>\n",
       "      <td>0.410240</td>\n",
       "      <td>-0.660135</td>\n",
       "      <td>-0.025043</td>\n",
       "      <td>-0.023994</td>\n",
       "      <td>-0.017705</td>\n",
       "      <td>-0.017705</td>\n",
       "      <td>0</td>\n",
       "      <td>1</td>\n",
       "      <td>0</td>\n",
       "      <td>1</td>\n",
       "      <td>0</td>\n",
       "      <td>0</td>\n",
       "      <td>0</td>\n",
       "    </tr>\n",
       "    <tr>\n",
       "      <th>1860</th>\n",
       "      <td>-0.787798</td>\n",
       "      <td>-0.480148</td>\n",
       "      <td>1.322201</td>\n",
       "      <td>-0.134553</td>\n",
       "      <td>-0.025043</td>\n",
       "      <td>-0.023994</td>\n",
       "      <td>-0.017705</td>\n",
       "      <td>-0.017705</td>\n",
       "      <td>0</td>\n",
       "      <td>0</td>\n",
       "      <td>1</td>\n",
       "      <td>1</td>\n",
       "      <td>0</td>\n",
       "      <td>0</td>\n",
       "      <td>0</td>\n",
       "    </tr>\n",
       "    <tr>\n",
       "      <th>1729</th>\n",
       "      <td>-0.188829</td>\n",
       "      <td>0.283017</td>\n",
       "      <td>-1.596076</td>\n",
       "      <td>1.442191</td>\n",
       "      <td>-0.025043</td>\n",
       "      <td>-0.023994</td>\n",
       "      <td>-0.017705</td>\n",
       "      <td>-0.017705</td>\n",
       "      <td>0</td>\n",
       "      <td>0</td>\n",
       "      <td>1</td>\n",
       "      <td>1</td>\n",
       "      <td>0</td>\n",
       "      <td>0</td>\n",
       "      <td>0</td>\n",
       "    </tr>\n",
       "    <tr>\n",
       "      <th>1993</th>\n",
       "      <td>0.010828</td>\n",
       "      <td>-0.098566</td>\n",
       "      <td>-0.866507</td>\n",
       "      <td>0.916610</td>\n",
       "      <td>-0.025043</td>\n",
       "      <td>-0.023994</td>\n",
       "      <td>-0.017705</td>\n",
       "      <td>-0.017705</td>\n",
       "      <td>0</td>\n",
       "      <td>0</td>\n",
       "      <td>1</td>\n",
       "      <td>1</td>\n",
       "      <td>0</td>\n",
       "      <td>0</td>\n",
       "      <td>0</td>\n",
       "    </tr>\n",
       "    <tr>\n",
       "      <th>93</th>\n",
       "      <td>-1.187111</td>\n",
       "      <td>0.092226</td>\n",
       "      <td>-0.684114</td>\n",
       "      <td>1.617385</td>\n",
       "      <td>-0.025043</td>\n",
       "      <td>-0.023994</td>\n",
       "      <td>-0.017705</td>\n",
       "      <td>-0.017705</td>\n",
       "      <td>1</td>\n",
       "      <td>0</td>\n",
       "      <td>0</td>\n",
       "      <td>0</td>\n",
       "      <td>1</td>\n",
       "      <td>0</td>\n",
       "      <td>0</td>\n",
       "    </tr>\n",
       "    <tr>\n",
       "      <th>2140</th>\n",
       "      <td>0.809453</td>\n",
       "      <td>0.855391</td>\n",
       "      <td>-1.231291</td>\n",
       "      <td>-0.309747</td>\n",
       "      <td>-0.025043</td>\n",
       "      <td>-0.023994</td>\n",
       "      <td>-0.017705</td>\n",
       "      <td>-0.017705</td>\n",
       "      <td>0</td>\n",
       "      <td>0</td>\n",
       "      <td>1</td>\n",
       "      <td>1</td>\n",
       "      <td>0</td>\n",
       "      <td>0</td>\n",
       "      <td>0</td>\n",
       "    </tr>\n",
       "    <tr>\n",
       "      <th>1823</th>\n",
       "      <td>0.609797</td>\n",
       "      <td>-0.098566</td>\n",
       "      <td>0.410240</td>\n",
       "      <td>-0.835329</td>\n",
       "      <td>-0.025043</td>\n",
       "      <td>-0.023994</td>\n",
       "      <td>-0.017705</td>\n",
       "      <td>-0.017705</td>\n",
       "      <td>0</td>\n",
       "      <td>0</td>\n",
       "      <td>1</td>\n",
       "      <td>1</td>\n",
       "      <td>0</td>\n",
       "      <td>0</td>\n",
       "      <td>0</td>\n",
       "    </tr>\n",
       "    <tr>\n",
       "      <th>559</th>\n",
       "      <td>-0.188829</td>\n",
       "      <td>-1.243314</td>\n",
       "      <td>2.051771</td>\n",
       "      <td>-0.660135</td>\n",
       "      <td>-0.025043</td>\n",
       "      <td>-0.023994</td>\n",
       "      <td>-0.017705</td>\n",
       "      <td>-0.017705</td>\n",
       "      <td>1</td>\n",
       "      <td>0</td>\n",
       "      <td>0</td>\n",
       "      <td>0</td>\n",
       "      <td>0</td>\n",
       "      <td>0</td>\n",
       "      <td>1</td>\n",
       "    </tr>\n",
       "    <tr>\n",
       "      <th>817</th>\n",
       "      <td>0.210484</td>\n",
       "      <td>-0.098566</td>\n",
       "      <td>-0.866507</td>\n",
       "      <td>0.741416</td>\n",
       "      <td>-0.025043</td>\n",
       "      <td>-0.023994</td>\n",
       "      <td>-0.017705</td>\n",
       "      <td>-0.017705</td>\n",
       "      <td>0</td>\n",
       "      <td>1</td>\n",
       "      <td>0</td>\n",
       "      <td>0</td>\n",
       "      <td>0</td>\n",
       "      <td>0</td>\n",
       "      <td>1</td>\n",
       "    </tr>\n",
       "    <tr>\n",
       "      <th>1607</th>\n",
       "      <td>-0.787798</td>\n",
       "      <td>1.809348</td>\n",
       "      <td>-1.413683</td>\n",
       "      <td>0.391028</td>\n",
       "      <td>-0.025043</td>\n",
       "      <td>-0.023994</td>\n",
       "      <td>-0.017705</td>\n",
       "      <td>-0.017705</td>\n",
       "      <td>0</td>\n",
       "      <td>0</td>\n",
       "      <td>1</td>\n",
       "      <td>1</td>\n",
       "      <td>0</td>\n",
       "      <td>0</td>\n",
       "      <td>0</td>\n",
       "    </tr>\n",
       "    <tr>\n",
       "      <th>1896</th>\n",
       "      <td>-0.388485</td>\n",
       "      <td>-0.098566</td>\n",
       "      <td>1.322201</td>\n",
       "      <td>-0.835329</td>\n",
       "      <td>-0.025043</td>\n",
       "      <td>-0.023994</td>\n",
       "      <td>-0.017705</td>\n",
       "      <td>-0.017705</td>\n",
       "      <td>0</td>\n",
       "      <td>0</td>\n",
       "      <td>1</td>\n",
       "      <td>1</td>\n",
       "      <td>0</td>\n",
       "      <td>0</td>\n",
       "      <td>0</td>\n",
       "    </tr>\n",
       "    <tr>\n",
       "      <th>737</th>\n",
       "      <td>-2.185393</td>\n",
       "      <td>-1.243314</td>\n",
       "      <td>2.963732</td>\n",
       "      <td>0.215834</td>\n",
       "      <td>-0.025043</td>\n",
       "      <td>-0.023994</td>\n",
       "      <td>-0.017705</td>\n",
       "      <td>-0.017705</td>\n",
       "      <td>1</td>\n",
       "      <td>0</td>\n",
       "      <td>0</td>\n",
       "      <td>1</td>\n",
       "      <td>0</td>\n",
       "      <td>0</td>\n",
       "      <td>0</td>\n",
       "    </tr>\n",
       "    <tr>\n",
       "      <th>2553</th>\n",
       "      <td>0.609797</td>\n",
       "      <td>1.427766</td>\n",
       "      <td>-0.501722</td>\n",
       "      <td>-1.360910</td>\n",
       "      <td>-0.025043</td>\n",
       "      <td>-0.023994</td>\n",
       "      <td>-0.017705</td>\n",
       "      <td>-0.017705</td>\n",
       "      <td>0</td>\n",
       "      <td>0</td>\n",
       "      <td>1</td>\n",
       "      <td>1</td>\n",
       "      <td>0</td>\n",
       "      <td>0</td>\n",
       "      <td>0</td>\n",
       "    </tr>\n",
       "    <tr>\n",
       "      <th>2151</th>\n",
       "      <td>-1.386767</td>\n",
       "      <td>-0.670940</td>\n",
       "      <td>-0.136937</td>\n",
       "      <td>1.967773</td>\n",
       "      <td>-0.025043</td>\n",
       "      <td>-0.023994</td>\n",
       "      <td>-0.017705</td>\n",
       "      <td>-0.017705</td>\n",
       "      <td>0</td>\n",
       "      <td>0</td>\n",
       "      <td>1</td>\n",
       "      <td>1</td>\n",
       "      <td>0</td>\n",
       "      <td>0</td>\n",
       "      <td>0</td>\n",
       "    </tr>\n",
       "    <tr>\n",
       "      <th>1380</th>\n",
       "      <td>-1.187111</td>\n",
       "      <td>0.283017</td>\n",
       "      <td>-0.501722</td>\n",
       "      <td>1.266997</td>\n",
       "      <td>-0.025043</td>\n",
       "      <td>-0.023994</td>\n",
       "      <td>-0.017705</td>\n",
       "      <td>-0.017705</td>\n",
       "      <td>0</td>\n",
       "      <td>1</td>\n",
       "      <td>0</td>\n",
       "      <td>1</td>\n",
       "      <td>0</td>\n",
       "      <td>0</td>\n",
       "      <td>0</td>\n",
       "    </tr>\n",
       "    <tr>\n",
       "      <th>937</th>\n",
       "      <td>0.609797</td>\n",
       "      <td>-0.289357</td>\n",
       "      <td>-0.501722</td>\n",
       "      <td>0.215834</td>\n",
       "      <td>-0.025043</td>\n",
       "      <td>-0.023994</td>\n",
       "      <td>-0.017705</td>\n",
       "      <td>-0.017705</td>\n",
       "      <td>0</td>\n",
       "      <td>1</td>\n",
       "      <td>0</td>\n",
       "      <td>0</td>\n",
       "      <td>1</td>\n",
       "      <td>0</td>\n",
       "      <td>0</td>\n",
       "    </tr>\n",
       "    <tr>\n",
       "      <th>2105</th>\n",
       "      <td>1.009110</td>\n",
       "      <td>-0.480148</td>\n",
       "      <td>-0.136937</td>\n",
       "      <td>-0.309747</td>\n",
       "      <td>-0.025043</td>\n",
       "      <td>-0.023994</td>\n",
       "      <td>-0.017705</td>\n",
       "      <td>-0.017705</td>\n",
       "      <td>0</td>\n",
       "      <td>0</td>\n",
       "      <td>1</td>\n",
       "      <td>1</td>\n",
       "      <td>0</td>\n",
       "      <td>0</td>\n",
       "      <td>0</td>\n",
       "    </tr>\n",
       "    <tr>\n",
       "      <th>3082</th>\n",
       "      <td>-0.188829</td>\n",
       "      <td>-0.098566</td>\n",
       "      <td>1.504594</td>\n",
       "      <td>-1.185716</td>\n",
       "      <td>-0.025043</td>\n",
       "      <td>-0.023994</td>\n",
       "      <td>-0.017705</td>\n",
       "      <td>-0.017705</td>\n",
       "      <td>0</td>\n",
       "      <td>0</td>\n",
       "      <td>1</td>\n",
       "      <td>1</td>\n",
       "      <td>0</td>\n",
       "      <td>0</td>\n",
       "      <td>0</td>\n",
       "    </tr>\n",
       "    <tr>\n",
       "      <th>1036</th>\n",
       "      <td>-1.187111</td>\n",
       "      <td>-0.480148</td>\n",
       "      <td>0.045455</td>\n",
       "      <td>1.442191</td>\n",
       "      <td>-0.025043</td>\n",
       "      <td>-0.023994</td>\n",
       "      <td>-0.017705</td>\n",
       "      <td>-0.017705</td>\n",
       "      <td>0</td>\n",
       "      <td>1</td>\n",
       "      <td>0</td>\n",
       "      <td>0</td>\n",
       "      <td>0</td>\n",
       "      <td>0</td>\n",
       "      <td>1</td>\n",
       "    </tr>\n",
       "    <tr>\n",
       "      <th>623</th>\n",
       "      <td>0.010828</td>\n",
       "      <td>-0.670940</td>\n",
       "      <td>0.227847</td>\n",
       "      <td>0.391028</td>\n",
       "      <td>-0.025043</td>\n",
       "      <td>-0.023994</td>\n",
       "      <td>-0.017705</td>\n",
       "      <td>-0.017705</td>\n",
       "      <td>1</td>\n",
       "      <td>0</td>\n",
       "      <td>0</td>\n",
       "      <td>0</td>\n",
       "      <td>0</td>\n",
       "      <td>0</td>\n",
       "      <td>1</td>\n",
       "    </tr>\n",
       "    <tr>\n",
       "      <th>2243</th>\n",
       "      <td>1.408423</td>\n",
       "      <td>-1.052523</td>\n",
       "      <td>1.322201</td>\n",
       "      <td>-1.536104</td>\n",
       "      <td>-0.025043</td>\n",
       "      <td>-0.023994</td>\n",
       "      <td>-0.017705</td>\n",
       "      <td>-0.017705</td>\n",
       "      <td>0</td>\n",
       "      <td>0</td>\n",
       "      <td>1</td>\n",
       "      <td>1</td>\n",
       "      <td>0</td>\n",
       "      <td>0</td>\n",
       "      <td>0</td>\n",
       "    </tr>\n",
       "    <tr>\n",
       "      <th>219</th>\n",
       "      <td>-0.388485</td>\n",
       "      <td>-0.098566</td>\n",
       "      <td>0.410240</td>\n",
       "      <td>0.040641</td>\n",
       "      <td>-0.025043</td>\n",
       "      <td>-0.023994</td>\n",
       "      <td>-0.017705</td>\n",
       "      <td>-0.017705</td>\n",
       "      <td>1</td>\n",
       "      <td>0</td>\n",
       "      <td>0</td>\n",
       "      <td>0</td>\n",
       "      <td>0</td>\n",
       "      <td>0</td>\n",
       "      <td>1</td>\n",
       "    </tr>\n",
       "    <tr>\n",
       "      <th>257</th>\n",
       "      <td>-1.187111</td>\n",
       "      <td>0.855391</td>\n",
       "      <td>-0.684114</td>\n",
       "      <td>0.916610</td>\n",
       "      <td>-0.025043</td>\n",
       "      <td>-0.023994</td>\n",
       "      <td>-0.017705</td>\n",
       "      <td>-0.017705</td>\n",
       "      <td>1</td>\n",
       "      <td>0</td>\n",
       "      <td>0</td>\n",
       "      <td>1</td>\n",
       "      <td>0</td>\n",
       "      <td>0</td>\n",
       "      <td>0</td>\n",
       "    </tr>\n",
       "    <tr>\n",
       "      <th>1238</th>\n",
       "      <td>0.010828</td>\n",
       "      <td>1.427766</td>\n",
       "      <td>0.045455</td>\n",
       "      <td>-1.360910</td>\n",
       "      <td>-0.025043</td>\n",
       "      <td>-0.023994</td>\n",
       "      <td>-0.017705</td>\n",
       "      <td>-0.017705</td>\n",
       "      <td>0</td>\n",
       "      <td>1</td>\n",
       "      <td>0</td>\n",
       "      <td>0</td>\n",
       "      <td>0</td>\n",
       "      <td>1</td>\n",
       "      <td>0</td>\n",
       "    </tr>\n",
       "    <tr>\n",
       "      <th>2366</th>\n",
       "      <td>0.609797</td>\n",
       "      <td>1.427766</td>\n",
       "      <td>-2.143253</td>\n",
       "      <td>0.215834</td>\n",
       "      <td>-0.025043</td>\n",
       "      <td>-0.023994</td>\n",
       "      <td>-0.017705</td>\n",
       "      <td>-0.017705</td>\n",
       "      <td>0</td>\n",
       "      <td>0</td>\n",
       "      <td>1</td>\n",
       "      <td>1</td>\n",
       "      <td>0</td>\n",
       "      <td>0</td>\n",
       "      <td>0</td>\n",
       "    </tr>\n",
       "    <tr>\n",
       "      <th>1905</th>\n",
       "      <td>0.609797</td>\n",
       "      <td>-0.670940</td>\n",
       "      <td>0.045455</td>\n",
       "      <td>0.040641</td>\n",
       "      <td>-0.025043</td>\n",
       "      <td>-0.023994</td>\n",
       "      <td>-0.017705</td>\n",
       "      <td>-0.017705</td>\n",
       "      <td>0</td>\n",
       "      <td>0</td>\n",
       "      <td>1</td>\n",
       "      <td>1</td>\n",
       "      <td>0</td>\n",
       "      <td>0</td>\n",
       "      <td>0</td>\n",
       "    </tr>\n",
       "    <tr>\n",
       "      <th>1703</th>\n",
       "      <td>-1.586424</td>\n",
       "      <td>-0.480148</td>\n",
       "      <td>1.504594</td>\n",
       "      <td>0.391028</td>\n",
       "      <td>-0.025043</td>\n",
       "      <td>-0.023994</td>\n",
       "      <td>-0.017705</td>\n",
       "      <td>-0.017705</td>\n",
       "      <td>0</td>\n",
       "      <td>0</td>\n",
       "      <td>1</td>\n",
       "      <td>1</td>\n",
       "      <td>0</td>\n",
       "      <td>0</td>\n",
       "      <td>0</td>\n",
       "    </tr>\n",
       "    <tr>\n",
       "      <th>216</th>\n",
       "      <td>-0.787798</td>\n",
       "      <td>1.236974</td>\n",
       "      <td>-0.136937</td>\n",
       "      <td>-0.309747</td>\n",
       "      <td>-0.025043</td>\n",
       "      <td>-0.023994</td>\n",
       "      <td>-0.017705</td>\n",
       "      <td>-0.017705</td>\n",
       "      <td>1</td>\n",
       "      <td>0</td>\n",
       "      <td>0</td>\n",
       "      <td>0</td>\n",
       "      <td>1</td>\n",
       "      <td>0</td>\n",
       "      <td>0</td>\n",
       "    </tr>\n",
       "  </tbody>\n",
       "</table>\n",
       "<p>957 rows × 15 columns</p>\n",
       "</div>"
      ],
      "text/plain": [
       "             A         T         G         C         D         N         R  \\\n",
       "1675 -0.388485  1.236974  0.957417 -1.711298 -0.025043 -0.023994 -0.017705   \n",
       "1002  0.010828 -1.052523 -0.319330  1.266997 -0.025043 -0.023994 -0.017705   \n",
       "2708 -0.987454 -0.861731  0.775024  0.916610 -0.025043 -0.023994 -0.017705   \n",
       "13    0.010828  0.283017  0.592632 -0.835329 -0.025043 -0.023994 -0.017705   \n",
       "45   -0.388485 -0.289357  0.957417 -0.309747 -0.025043 -0.023994 -0.017705   \n",
       "2684 -0.787798 -0.861731 -0.136937  1.617385 -0.025043 -0.023994 -0.017705   \n",
       "2682 -0.987454 -0.289357 -0.319330  1.442191 -0.025043 -0.023994 -0.017705   \n",
       "2087 -0.588142  1.046183  0.227847 -0.660135 -0.025043 -0.023994 -0.017705   \n",
       "282  -1.586424 -1.434105  2.051771  0.741416 -0.025043 -0.023994 -0.017705   \n",
       "2256 -0.987454  1.427766 -0.684114  0.215834 -0.025043 -0.023994 -0.017705   \n",
       "1780 -0.588142 -0.480148  1.322201 -0.309747 -0.025043 -0.023994 -0.017705   \n",
       "161  -0.588142 -0.480148 -0.136937  1.091803 -0.025043 -0.023994 -0.017705   \n",
       "584  -0.588142 -0.861731  1.322201  0.040641 -0.025043 -0.023994 -0.017705   \n",
       "1404 -0.787798  1.809348 -0.136937 -0.835329 -0.025043 -0.023994 -0.017705   \n",
       "1178  0.410141  1.046183 -1.413683  0.040641 -0.025043 -0.023994 -0.017705   \n",
       "442   0.010828 -0.098566  0.227847 -0.134553 -0.025043 -0.023994 -0.017705   \n",
       "2170 -0.188829 -0.670940  0.045455  0.741416 -0.025043 -0.023994 -0.017705   \n",
       "75    2.406705  0.855391 -1.048899 -1.886491 -0.025043 -0.023994 -0.017705   \n",
       "2056  0.809453  1.236974 -0.319330 -1.536104 -0.025043 -0.023994 -0.017705   \n",
       "936  -1.386767  0.855391 -0.684114  1.091803 -0.025043 -0.023994 -0.017705   \n",
       "1502  0.410141 -0.098566  0.227847 -0.484941 -0.025043 -0.023994 -0.017705   \n",
       "1363 -0.588142 -0.289357 -0.501722  1.266997 -0.025043 -0.023994 -0.017705   \n",
       "2766 -1.786080 -1.052523  0.227847  2.318160 -0.025043 -0.023994 -0.017705   \n",
       "1415 -0.987454 -1.052523  0.227847  1.617385 -0.025043 -0.023994 -0.017705   \n",
       "318   1.009110 -1.052523  0.410240 -0.309747 -0.025043 -0.023994 -0.017705   \n",
       "1846  0.210484 -1.243314  0.592632  0.391028 -0.025043 -0.023994 -0.017705   \n",
       "979   0.210484 -1.243314  0.410240  0.566222 -0.025043 -0.023994 -0.017705   \n",
       "3185 -2.784362  3.717262 -2.872822  1.792579 -0.025043 -0.023994 -0.017705   \n",
       "3186  0.809453 -2.006480  1.139809  0.040641 -0.025043 -0.023994 -0.017705   \n",
       "3041  0.010828 -0.861731  0.410240  0.391028 -0.025043 -0.023994 -0.017705   \n",
       "...        ...       ...       ...       ...       ...       ...       ...   \n",
       "1026 -0.987454  0.473809 -0.501722  0.916610 -0.025043 -0.023994 -0.017705   \n",
       "650  -0.987454 -1.052523  1.686986  0.215834 -0.025043 -0.023994 -0.017705   \n",
       "1169 -0.987454  1.236974  0.410240 -0.660135 -0.025043 -0.023994 -0.017705   \n",
       "1860 -0.787798 -0.480148  1.322201 -0.134553 -0.025043 -0.023994 -0.017705   \n",
       "1729 -0.188829  0.283017 -1.596076  1.442191 -0.025043 -0.023994 -0.017705   \n",
       "1993  0.010828 -0.098566 -0.866507  0.916610 -0.025043 -0.023994 -0.017705   \n",
       "93   -1.187111  0.092226 -0.684114  1.617385 -0.025043 -0.023994 -0.017705   \n",
       "2140  0.809453  0.855391 -1.231291 -0.309747 -0.025043 -0.023994 -0.017705   \n",
       "1823  0.609797 -0.098566  0.410240 -0.835329 -0.025043 -0.023994 -0.017705   \n",
       "559  -0.188829 -1.243314  2.051771 -0.660135 -0.025043 -0.023994 -0.017705   \n",
       "817   0.210484 -0.098566 -0.866507  0.741416 -0.025043 -0.023994 -0.017705   \n",
       "1607 -0.787798  1.809348 -1.413683  0.391028 -0.025043 -0.023994 -0.017705   \n",
       "1896 -0.388485 -0.098566  1.322201 -0.835329 -0.025043 -0.023994 -0.017705   \n",
       "737  -2.185393 -1.243314  2.963732  0.215834 -0.025043 -0.023994 -0.017705   \n",
       "2553  0.609797  1.427766 -0.501722 -1.360910 -0.025043 -0.023994 -0.017705   \n",
       "2151 -1.386767 -0.670940 -0.136937  1.967773 -0.025043 -0.023994 -0.017705   \n",
       "1380 -1.187111  0.283017 -0.501722  1.266997 -0.025043 -0.023994 -0.017705   \n",
       "937   0.609797 -0.289357 -0.501722  0.215834 -0.025043 -0.023994 -0.017705   \n",
       "2105  1.009110 -0.480148 -0.136937 -0.309747 -0.025043 -0.023994 -0.017705   \n",
       "3082 -0.188829 -0.098566  1.504594 -1.185716 -0.025043 -0.023994 -0.017705   \n",
       "1036 -1.187111 -0.480148  0.045455  1.442191 -0.025043 -0.023994 -0.017705   \n",
       "623   0.010828 -0.670940  0.227847  0.391028 -0.025043 -0.023994 -0.017705   \n",
       "2243  1.408423 -1.052523  1.322201 -1.536104 -0.025043 -0.023994 -0.017705   \n",
       "219  -0.388485 -0.098566  0.410240  0.040641 -0.025043 -0.023994 -0.017705   \n",
       "257  -1.187111  0.855391 -0.684114  0.916610 -0.025043 -0.023994 -0.017705   \n",
       "1238  0.010828  1.427766  0.045455 -1.360910 -0.025043 -0.023994 -0.017705   \n",
       "2366  0.609797  1.427766 -2.143253  0.215834 -0.025043 -0.023994 -0.017705   \n",
       "1905  0.609797 -0.670940  0.045455  0.040641 -0.025043 -0.023994 -0.017705   \n",
       "1703 -1.586424 -0.480148  1.504594  0.391028 -0.025043 -0.023994 -0.017705   \n",
       "216  -0.787798  1.236974 -0.136937 -0.309747 -0.025043 -0.023994 -0.017705   \n",
       "\n",
       "             S  Type_EI  Type_IE  Type_N  stop-code_None  stop-code_TAA  \\\n",
       "1675 -0.017705        0        0       1               1              0   \n",
       "1002 -0.017705        0        1       0               1              0   \n",
       "2708 -0.017705        0        0       1               1              0   \n",
       "13   -0.017705        1        0       0               0              0   \n",
       "45   -0.017705        1        0       0               0              0   \n",
       "2684 -0.017705        0        0       1               1              0   \n",
       "2682 -0.017705        0        0       1               1              0   \n",
       "2087 -0.017705        0        0       1               1              0   \n",
       "282  -0.017705        1        0       0               0              0   \n",
       "2256 -0.017705        0        0       1               1              0   \n",
       "1780 -0.017705        0        0       1               1              0   \n",
       "161  -0.017705        1        0       0               1              0   \n",
       "584  -0.017705        1        0       0               0              0   \n",
       "1404 -0.017705        0        1       0               0              0   \n",
       "1178 -0.017705        0        1       0               0              1   \n",
       "442  -0.017705        1        0       0               0              1   \n",
       "2170 -0.017705        0        0       1               1              0   \n",
       "75   -0.017705        1        0       0               0              1   \n",
       "2056 -0.017705        0        0       1               1              0   \n",
       "936  -0.017705        0        1       0               1              0   \n",
       "1502 -0.017705        0        1       0               1              0   \n",
       "1363 -0.017705        0        1       0               0              0   \n",
       "2766 -0.017705        0        0       1               1              0   \n",
       "1415 -0.017705        0        1       0               1              0   \n",
       "318  -0.017705        1        0       0               0              0   \n",
       "1846 -0.017705        0        0       1               1              0   \n",
       "979  -0.017705        0        1       0               1              0   \n",
       "3185 -0.017705        0        0       1               1              0   \n",
       "3186 -0.017705        0        0       1               1              0   \n",
       "3041 -0.017705        0        0       1               1              0   \n",
       "...        ...      ...      ...     ...             ...            ...   \n",
       "1026 -0.017705        0        1       0               1              0   \n",
       "650  -0.017705        1        0       0               0              0   \n",
       "1169 -0.017705        0        1       0               1              0   \n",
       "1860 -0.017705        0        0       1               1              0   \n",
       "1729 -0.017705        0        0       1               1              0   \n",
       "1993 -0.017705        0        0       1               1              0   \n",
       "93   -0.017705        1        0       0               0              1   \n",
       "2140 -0.017705        0        0       1               1              0   \n",
       "1823 -0.017705        0        0       1               1              0   \n",
       "559  -0.017705        1        0       0               0              0   \n",
       "817  -0.017705        0        1       0               0              0   \n",
       "1607 -0.017705        0        0       1               1              0   \n",
       "1896 -0.017705        0        0       1               1              0   \n",
       "737  -0.017705        1        0       0               1              0   \n",
       "2553 -0.017705        0        0       1               1              0   \n",
       "2151 -0.017705        0        0       1               1              0   \n",
       "1380 -0.017705        0        1       0               1              0   \n",
       "937  -0.017705        0        1       0               0              1   \n",
       "2105 -0.017705        0        0       1               1              0   \n",
       "3082 -0.017705        0        0       1               1              0   \n",
       "1036 -0.017705        0        1       0               0              0   \n",
       "623  -0.017705        1        0       0               0              0   \n",
       "2243 -0.017705        0        0       1               1              0   \n",
       "219  -0.017705        1        0       0               0              0   \n",
       "257  -0.017705        1        0       0               1              0   \n",
       "1238 -0.017705        0        1       0               0              0   \n",
       "2366 -0.017705        0        0       1               1              0   \n",
       "1905 -0.017705        0        0       1               1              0   \n",
       "1703 -0.017705        0        0       1               1              0   \n",
       "216  -0.017705        1        0       0               0              1   \n",
       "\n",
       "      stop-code_TAG  stop-code_TGA  \n",
       "1675              0              0  \n",
       "1002              0              0  \n",
       "2708              0              0  \n",
       "13                0              1  \n",
       "45                0              1  \n",
       "2684              0              0  \n",
       "2682              0              0  \n",
       "2087              0              0  \n",
       "282               0              1  \n",
       "2256              0              0  \n",
       "1780              0              0  \n",
       "161               0              0  \n",
       "584               1              0  \n",
       "1404              1              0  \n",
       "1178              0              0  \n",
       "442               0              0  \n",
       "2170              0              0  \n",
       "75                0              0  \n",
       "2056              0              0  \n",
       "936               0              0  \n",
       "1502              0              0  \n",
       "1363              1              0  \n",
       "2766              0              0  \n",
       "1415              0              0  \n",
       "318               1              0  \n",
       "1846              0              0  \n",
       "979               0              0  \n",
       "3185              0              0  \n",
       "3186              0              0  \n",
       "3041              0              0  \n",
       "...             ...            ...  \n",
       "1026              0              0  \n",
       "650               0              1  \n",
       "1169              0              0  \n",
       "1860              0              0  \n",
       "1729              0              0  \n",
       "1993              0              0  \n",
       "93                0              0  \n",
       "2140              0              0  \n",
       "1823              0              0  \n",
       "559               0              1  \n",
       "817               0              1  \n",
       "1607              0              0  \n",
       "1896              0              0  \n",
       "737               0              0  \n",
       "2553              0              0  \n",
       "2151              0              0  \n",
       "1380              0              0  \n",
       "937               0              0  \n",
       "2105              0              0  \n",
       "3082              0              0  \n",
       "1036              0              1  \n",
       "623               0              1  \n",
       "2243              0              0  \n",
       "219               0              1  \n",
       "257               0              0  \n",
       "1238              1              0  \n",
       "2366              0              0  \n",
       "1905              0              0  \n",
       "1703              0              0  \n",
       "216               0              0  \n",
       "\n",
       "[957 rows x 15 columns]"
      ]
     },
     "execution_count": 22,
     "metadata": {},
     "output_type": "execute_result"
    }
   ],
   "source": [
    "X_test"
   ]
  },
  {
   "cell_type": "markdown",
   "metadata": {},
   "source": [
    "Выше - таблица с подготовленными данными для тестирования работы модели"
   ]
  },
  {
   "cell_type": "markdown",
   "metadata": {},
   "source": [
    "Итак, приступим!\n",
    "Первый метод классификации - метод k ближайших соседей из библиотеки sklearn\n",
    "Обучим нашу модель и посмотрим на результаты работы"
   ]
  },
  {
   "cell_type": "code",
   "execution_count": 23,
   "metadata": {},
   "outputs": [
    {
     "name": "stderr",
     "output_type": "stream",
     "text": [
      "C:\\ProgramData\\Anaconda3\\lib\\site-packages\\sklearn\\cross_validation.py:44: DeprecationWarning: This module was deprecated in version 0.18 in favor of the model_selection module into which all the refactored classes and functions are moved. Also note that the interface of the new CV iterators are different from that of this module. This module will be removed in 0.20.\n",
      "  \"This module will be removed in 0.20.\", DeprecationWarning)\n"
     ]
    }
   ],
   "source": [
    "from sklearn import neighbors\n",
    "from sklearn.cross_validation import train_test_split\n",
    "\n",
    "model = neighbors.KNeighborsClassifier(n_neighbors = 3)\n",
    "model.fit(X_train, y_train)\n",
    "y_test_pred = model.predict(X_test)\n"
   ]
  },
  {
   "cell_type": "markdown",
   "metadata": {},
   "source": [
    "Ошибка классификации составила ~1%\n",
    "Неплохо!"
   ]
  },
  {
   "cell_type": "code",
   "execution_count": 24,
   "metadata": {},
   "outputs": [
    {
     "name": "stdout",
     "output_type": "stream",
     "text": [
      "0.00104493207941\n"
     ]
    }
   ],
   "source": [
    "from sklearn import metrics\n",
    "print (1 - metrics.accuracy_score(y_test, y_test_pred))\n"
   ]
  },
  {
   "cell_type": "markdown",
   "metadata": {},
   "source": [
    "Для наглядности построим матрицу смешивания\n",
    "И заметим, что некоторое количество объектов класса ei было ошибочно классифицировано как n"
   ]
  },
  {
   "cell_type": "code",
   "execution_count": 25,
   "metadata": {},
   "outputs": [
    {
     "data": {
      "text/plain": [
       "<matplotlib.colorbar.Colorbar at 0x626f4655c0>"
      ]
     },
     "execution_count": 25,
     "metadata": {},
     "output_type": "execute_result"
    },
    {
     "data": {
      "image/png": "[encoded data removed]",
      "text/plain": [
       "<matplotlib.figure.Figure at 0x626dadf668>"
      ]
     },
     "metadata": {},
     "output_type": "display_data"
    }
   ],
   "source": [
    "M = metrics.confusion_matrix(y_test, y_test_pred)\n",
    "#M = M - np.diag(np.diag(M))\n",
    "M = np.sqrt(M)\n",
    "plt.imshow(M, interpolation = 'nearest')\n",
    "plt.set_cmap('binary')\n",
    "plt.grid(False)\n",
    "plt.xticks(range(3))\n",
    "plt.yticks(range(3))\n",
    "plt.xlabel(\"predicted label\")\n",
    "plt.ylabel(\"true label\")\n",
    "plt.colorbar()"
   ]
  },
  {
   "cell_type": "markdown",
   "metadata": {},
   "source": [
    "Кроме того, интересно посмотреть, как будет меняться ошибка на тестовой и обучающей выборках с увеличением числа соседей для модели"
   ]
  },
  {
   "cell_type": "code",
   "execution_count": 26,
   "metadata": {
    "collapsed": true
   },
   "outputs": [],
   "source": [
    "kk = range(1, 30, 2)\n",
    "err_train = []\n",
    "err_test = []\n",
    "for k in kk:\n",
    "    model = neighbors.KNeighborsClassifier(n_neighbors = k)\n",
    "    model.fit(X_train, y_train)\n",
    "    err_train.append(np.mean(model.predict(X_train) != y_train))\n",
    "    err_test.append(np.mean(model.predict(X_test) != y_test))"
   ]
  },
  {
   "cell_type": "code",
   "execution_count": 27,
   "metadata": {},
   "outputs": [
    {
     "data": {
      "text/plain": [
       "<matplotlib.legend.Legend at 0x626f547eb8>"
      ]
     },
     "execution_count": 27,
     "metadata": {},
     "output_type": "execute_result"
    },
    {
     "data": {
      "image/png": "[encoded data removed]",
      "text/plain": [
       "<matplotlib.figure.Figure at 0x626f095a20>"
      ]
     },
     "metadata": {},
     "output_type": "display_data"
    }
   ],
   "source": [
    "plt.plot(kk, err_train, '*-g', label = 'Train error')\n",
    "plt.plot(kk, err_test,  'o-y', label = 'Test error')    \n",
    "plt.legend(loc = 2)"
   ]
  },
  {
   "cell_type": "markdown",
   "metadata": {},
   "source": [
    "Как мы видим из графика, с увеличением числа ближайших соседей ошибка растет и при 23 соседях достигает максимума на тестовой выборке в 10%"
   ]
  },
  {
   "cell_type": "markdown",
   "metadata": {},
   "source": [
    "Теперь на тех же самых выборках обучим модель LDA, и сравним полученные результаты"
   ]
  },
  {
   "cell_type": "code",
   "execution_count": 28,
   "metadata": {},
   "outputs": [
    {
     "name": "stderr",
     "output_type": "stream",
     "text": [
      "C:\\ProgramData\\Anaconda3\\lib\\site-packages\\sklearn\\discriminant_analysis.py:387: UserWarning: Variables are collinear.\n",
      "  warnings.warn(\"Variables are collinear.\")\n"
     ]
    },
    {
     "data": {
      "text/plain": [
       "LinearDiscriminantAnalysis(n_components=None, priors=None, shrinkage=None,\n",
       "              solver='svd', store_covariance=False, tol=0.0001)"
      ]
     },
     "execution_count": 28,
     "metadata": {},
     "output_type": "execute_result"
    }
   ],
   "source": [
    "from sklearn import discriminant_analysis\n",
    "lda_model = discriminant_analysis.LinearDiscriminantAnalysis()\n",
    "lda_model.fit(X_train, y_train)"
   ]
  },
  {
   "cell_type": "markdown",
   "metadata": {},
   "source": [
    "Как мы видим, ошибка классификации при использовании данной модели составила ~24%  \n",
    "Интересно посмотреть, что же произошло, для этого построим матрицу смешивания"
   ]
  },
  {
   "cell_type": "code",
   "execution_count": 29,
   "metadata": {},
   "outputs": [
    {
     "data": {
      "text/plain": [
       "0.24242424242424243"
      ]
     },
     "execution_count": 29,
     "metadata": {},
     "output_type": "execute_result"
    }
   ],
   "source": [
    "y_test_pred = lda_model.predict(X_test)\n",
    "np.mean(y_test != y_test_pred)"
   ]
  },
  {
   "cell_type": "code",
   "execution_count": 30,
   "metadata": {},
   "outputs": [
    {
     "name": "stdout",
     "output_type": "stream",
     "text": [
      "[[198  19  17]\n",
      " [ 74  44 119]\n",
      " [  0   3 483]]\n"
     ]
    }
   ],
   "source": [
    "from sklearn.metrics import confusion_matrix\n",
    "print (confusion_matrix(y_test, y_test_pred))\n"
   ]
  },
  {
   "cell_type": "markdown",
   "metadata": {},
   "source": [
    "И отобразим полученный график"
   ]
  },
  {
   "cell_type": "code",
   "execution_count": 31,
   "metadata": {},
   "outputs": [
    {
     "data": {
      "text/plain": [
       "<matplotlib.colorbar.Colorbar at 0x6270c28048>"
      ]
     },
     "execution_count": 31,
     "metadata": {},
     "output_type": "execute_result"
    },
    {
     "data": {
      "image/png": "[encoded data removed]",
      "text/plain": [
       "<matplotlib.figure.Figure at 0x6270669208>"
      ]
     },
     "metadata": {},
     "output_type": "display_data"
    }
   ],
   "source": [
    "M = confusion_matrix(y_test, y_test_pred)\n",
    "#M = M - np.diag(np.diag(M))\n",
    "M = np.sqrt(M)\n",
    "plt.imshow(M, interpolation = 'nearest')\n",
    "plt.set_cmap('binary')\n",
    "plt.grid(False)\n",
    "plt.xticks(range(3))\n",
    "plt.yticks(range(3))\n",
    "plt.xlabel(\"predicted label\")\n",
    "plt.ylabel(\"true label\")\n",
    "plt.colorbar()"
   ]
  },
  {
   "cell_type": "markdown",
   "metadata": {},
   "source": [
    "Исходя из графического отображения матрицы смешивания на рисунке выше, некоторое количество объектов класса ei были ошибочно отнесены к классу ie, меньшее количество объектов класса ie ошибочно классифицированы как ei и n и, наконец, значительное количество (~15%) объектов класса n причислены к классу ie, ~5%  объектов n классифицированы как ei"
   ]
  },
  {
   "cell_type": "markdown",
   "metadata": {},
   "source": [
    "Воспользуемся методом квадратичного дискриминантного анализа на всё тех же начальных выборках, обучим модель и оценим ошибку"
   ]
  },
  {
   "cell_type": "code",
   "execution_count": 32,
   "metadata": {},
   "outputs": [
    {
     "name": "stderr",
     "output_type": "stream",
     "text": [
      "C:\\ProgramData\\Anaconda3\\lib\\site-packages\\sklearn\\discriminant_analysis.py:695: UserWarning: Variables are collinear\n",
      "  warnings.warn(\"Variables are collinear\")\n",
      "C:\\ProgramData\\Anaconda3\\lib\\site-packages\\sklearn\\discriminant_analysis.py:719: RuntimeWarning: divide by zero encountered in power\n",
      "  X2 = np.dot(Xm, R * (S ** (-0.5)))\n",
      "C:\\ProgramData\\Anaconda3\\lib\\site-packages\\sklearn\\discriminant_analysis.py:719: RuntimeWarning: invalid value encountered in multiply\n",
      "  X2 = np.dot(Xm, R * (S ** (-0.5)))\n",
      "C:\\ProgramData\\Anaconda3\\lib\\site-packages\\sklearn\\discriminant_analysis.py:722: RuntimeWarning: divide by zero encountered in log\n",
      "  u = np.asarray([np.sum(np.log(s)) for s in self.scalings_])\n"
     ]
    },
    {
     "data": {
      "text/plain": [
       "0.49216300940438873"
      ]
     },
     "execution_count": 32,
     "metadata": {},
     "output_type": "execute_result"
    }
   ],
   "source": [
    "qda_model = discriminant_analysis.QuadraticDiscriminantAnalysis()\n",
    "qda_model.fit(X_train, y_train)\n",
    "\n",
    "y_test_pred = qda_model.predict(X_test)\n",
    "\n",
    "np.mean(y_test != y_test_pred)"
   ]
  },
  {
   "cell_type": "markdown",
   "metadata": {},
   "source": [
    "Честно говоря, когда модель при классификации ошибается в половине случаев, всякое желание использовать её отпадает... "
   ]
  },
  {
   "cell_type": "markdown",
   "metadata": {},
   "source": [
    "А пока что проверим, как проявит себя метод логистической регрессии в условиях данной задачи.  \n",
    "Всё в точном соответствии с пунктами, описанными выше: на имеющихся выборках обучаем модель, предсказываем значения, вычисляем ошибку классификации"
   ]
  },
  {
   "cell_type": "code",
   "execution_count": 33,
   "metadata": {},
   "outputs": [
    {
     "data": {
      "text/plain": [
       "0.0"
      ]
     },
     "execution_count": 33,
     "metadata": {},
     "output_type": "execute_result"
    }
   ],
   "source": [
    "from sklearn.linear_model import LogisticRegression\n",
    "logistic_model = LogisticRegression()\n",
    "logistic_model.fit(X_train, y_train)\n",
    "y_test_pred = logistic_model.predict(X_test)\n",
    "np.mean(y_test != y_test_pred)"
   ]
  },
  {
   "cell_type": "markdown",
   "metadata": {},
   "source": [
    "Ошибка классификации - 0%!!! Что-то весьма невероятное и приятно-неожиданное\n",
    "Особенно в контрасте с полученной на прошлом шаге ошибкой в 49%.\n",
    "Строим матрицу смешивания и ещё раз восхищаемся"
   ]
  },
  {
   "cell_type": "code",
   "execution_count": 34,
   "metadata": {},
   "outputs": [
    {
     "data": {
      "text/plain": [
       "<matplotlib.colorbar.Colorbar at 0x62707ed438>"
      ]
     },
     "execution_count": 34,
     "metadata": {},
     "output_type": "execute_result"
    },
    {
     "data": {
      "image/png": "[encoded data removed]",
      "text/plain": [
       "<matplotlib.figure.Figure at 0x6270c361d0>"
      ]
     },
     "metadata": {},
     "output_type": "display_data"
    }
   ],
   "source": [
    "M = confusion_matrix(y_test, y_test_pred)\n",
    "#M = M - np.diag(np.diag(M))\n",
    "M = np.sqrt(M)\n",
    "plt.imshow(M, interpolation = 'nearest')\n",
    "plt.set_cmap('binary')\n",
    "plt.grid(False)\n",
    "plt.xticks(range(3))\n",
    "plt.yticks(range(3))\n",
    "plt.xlabel(\"predicted label\")\n",
    "plt.ylabel(\"true label\")\n",
    "plt.colorbar()"
   ]
  },
  {
   "cell_type": "markdown",
   "metadata": {},
   "source": [
    "Продолжаем тестировать применение различных методов классификации на наших данных. На очереди - машина опорных векторов"
   ]
  },
  {
   "cell_type": "code",
   "execution_count": 35,
   "metadata": {},
   "outputs": [
    {
     "data": {
      "text/plain": [
       "SVC(C=1.0, cache_size=200, class_weight=None, coef0=0.0,\n",
       "  decision_function_shape=None, degree=3, gamma='auto', kernel='linear',\n",
       "  max_iter=-1, probability=False, random_state=None, shrinking=True,\n",
       "  tol=0.001, verbose=False)"
      ]
     },
     "execution_count": 35,
     "metadata": {},
     "output_type": "execute_result"
    }
   ],
   "source": [
    "from sklearn.svm import SVC # \"Support Vector Classifier\"\n",
    "svc_model = SVC(kernel = 'linear')\n",
    "svc_model.fit(X_test, y_test)"
   ]
  },
  {
   "cell_type": "markdown",
   "metadata": {},
   "source": [
    "Посмотрим на ошибку классификации при использовании данной модели"
   ]
  },
  {
   "cell_type": "code",
   "execution_count": 36,
   "metadata": {},
   "outputs": [
    {
     "data": {
      "text/plain": [
       "0.0"
      ]
     },
     "execution_count": 36,
     "metadata": {},
     "output_type": "execute_result"
    }
   ],
   "source": [
    "y_test_pred = svc_model.predict(X_test)\n",
    "np.mean(y_test != y_test_pred)"
   ]
  },
  {
   "cell_type": "markdown",
   "metadata": {},
   "source": [
    "И снова - все объекты классифицированы верно, ошибка равна 0%\n",
    "Полагаю, что матрица смешивания в данном случае не столь интересна)"
   ]
  },
  {
   "cell_type": "markdown",
   "metadata": {},
   "source": [
    "Остался нерассмотренным последний метод - наивный Баессовский классификатор.\n",
    "Рассмотрим два варианта: Гауссов и Бернулле классификаторы"
   ]
  },
  {
   "cell_type": "code",
   "execution_count": 37,
   "metadata": {},
   "outputs": [
    {
     "data": {
      "text/plain": [
       "GaussianNB(priors=None)"
      ]
     },
     "execution_count": 37,
     "metadata": {},
     "output_type": "execute_result"
    }
   ],
   "source": [
    "from sklearn.naive_bayes import GaussianNB\n",
    "gnb_model = GaussianNB()\n",
    "gnb_model.fit(X_test, y_test)\n"
   ]
  },
  {
   "cell_type": "code",
   "execution_count": 38,
   "metadata": {},
   "outputs": [
    {
     "name": "stdout",
     "output_type": "stream",
     "text": [
      "0.000447828034035 0.0\n"
     ]
    }
   ],
   "source": [
    "err_train = np.mean(y_train != gnb_model.predict(X_train))\n",
    "err_test = np.mean(y_test != gnb_model.predict(X_test))\n",
    "print(err_train, err_test)"
   ]
  },
  {
   "cell_type": "markdown",
   "metadata": {},
   "source": [
    "Полученная ошибка на обучающей выборке и на тестовой выборке приблизительно 0%"
   ]
  },
  {
   "cell_type": "code",
   "execution_count": 39,
   "metadata": {},
   "outputs": [
    {
     "data": {
      "text/plain": [
       "BernoulliNB(alpha=1.0, binarize=0.0, class_prior=None, fit_prior=True)"
      ]
     },
     "execution_count": 39,
     "metadata": {},
     "output_type": "execute_result"
    }
   ],
   "source": [
    "from sklearn.naive_bayes import BernoulliNB\n",
    "nb_model = BernoulliNB()\n",
    "nb_model.fit(X_train, y_train)"
   ]
  },
  {
   "cell_type": "code",
   "execution_count": 40,
   "metadata": {},
   "outputs": [
    {
     "name": "stdout",
     "output_type": "stream",
     "text": [
      "0.0 0.0\n"
     ]
    }
   ],
   "source": [
    "err_train = np.mean(y_train != nb_model.predict(X_train))\n",
    "err_test = np.mean(y_test != nb_model.predict(X_test))\n",
    "print(err_train, err_test)"
   ]
  },
  {
   "cell_type": "markdown",
   "metadata": {},
   "source": [
    "По аналогии с примером выше, ошибка 0%"
   ]
  },
  {
   "cell_type": "markdown",
   "metadata": {},
   "source": [
    "Выводы: \n",
    "\n",
    "        -На рассматриваемом наборе данных лучше все себя показали метод линейной регрессии и наивный Баессовский классификатор, при использовании которых ошибка классификации составила 0%  \n",
    "        -метод k ближайших соседей показал себя весьма неплохо при малых значениях k, соответственно, проблема выбора оптимального числа соседей сохраняется;  \n",
    "        -линейный и квадратичный дискриминантные анализы классифицировали объекты с достаточно большой ошибкой, более того, последний определял класс объекта с точность 50%, т.е ошибался в половине случаев, соответственно, его использование на указанных данных нецелесообразно."
   ]
  },
  {
   "cell_type": "markdown",
   "metadata": {},
   "source": [
    "Теперь перейдём к следующей части изучения работы методов классификации на примере участков ДНК. Основная задача - научиться относить цепочку нуклеотид к одному из трёх классов: содержащую участок перехода от включаемого в основную (кодирующую) последовательность к исключаемому при ретрансляции участку; участок перехода от исключаемого к кодирующему участку ДНК; участок без переходов (т.е целиком относящийся к кодирующему (чаще всего) или исключаемому участку ДНК - наиболее частая длина исключаемого участка - 4-5 аминокислот, т.е. до 20 нуклеотид.  \n",
    "На подготовительном этапе перед проведением данного изучения точности классификации было замечено, что существует прямая зависимость между имеющимися данными и классом, к которому относится участок ДНК. Поэтому, для чистоты эксперимента, удалим данные столбцы; позднее на полученных данных снова протестируем методы из числа рассмотренных ранее, которые показали наилучшие результаты."
   ]
  },
  {
   "cell_type": "code",
   "execution_count": 42,
   "metadata": {},
   "outputs": [],
   "source": [
    "X = X.drop(['Type_N', 'Type_IE','Type_EI'], axis =1) \n",
    "X_train = X_train.drop(['Type_N', 'Type_IE','Type_EI'], axis=1) \n",
    "X_test = X_test.drop(['Type_N', 'Type_IE','Type_EI'], axis =1) "
   ]
  },
  {
   "cell_type": "markdown",
   "metadata": {},
   "source": [
    "Для начала, применим к нашим данным метод ансамблей деревьев решений. Размер тренировочной выборки составляет приблизительно треть от начальной выборки. Поскольку на размер ошибки влияет количество \"экспертов\", принимающих участие в голосовании, рассмотрим несколько вариантов и сделаем выводы об оптимальном числе деревьев применительно к имеющимся данным."
   ]
  },
  {
   "cell_type": "markdown",
   "metadata": {},
   "source": [
    "Сначала обучим модель для 15 деревьев и оценим результаты работы."
   ]
  },
  {
   "cell_type": "code",
   "execution_count": 43,
   "metadata": {},
   "outputs": [
    {
     "data": {
      "text/plain": [
       "ExtraTreesClassifier(bootstrap=False, class_weight=None, criterion='gini',\n",
       "           max_depth=None, max_features='auto', max_leaf_nodes=None,\n",
       "           min_impurity_split=1e-07, min_samples_leaf=1,\n",
       "           min_samples_split=2, min_weight_fraction_leaf=0.0,\n",
       "           n_estimators=15, n_jobs=1, oob_score=False, random_state=None,\n",
       "           verbose=0, warm_start=False)"
      ]
     },
     "execution_count": 43,
     "metadata": {},
     "output_type": "execute_result"
    }
   ],
   "source": [
    "from sklearn.ensemble import ExtraTreesClassifier\n",
    "rf_model = ExtraTreesClassifier(n_estimators=15)\n",
    "rf_model.fit(X_train, y_train)"
   ]
  },
  {
   "cell_type": "code",
   "execution_count": 44,
   "metadata": {},
   "outputs": [
    {
     "name": "stdout",
     "output_type": "stream",
     "text": [
      "0.0273175100761 0.188087774295\n"
     ]
    }
   ],
   "source": [
    "err_train = np.mean(y_train != rf_model.predict(X_train))\n",
    "err_test = np.mean(y_test != rf_model.predict(X_test))\n",
    "print(err_train, err_test)"
   ]
  },
  {
   "cell_type": "markdown",
   "metadata": {},
   "source": [
    "Ошибка на тренировочной выборке составила ~3%, на тестовой ~19%, что само по себе достаточно неплохо. Посмотрим динамику изменения величины ошибки при росте числа \"экспертов\""
   ]
  },
  {
   "cell_type": "code",
   "execution_count": 45,
   "metadata": {
    "collapsed": true
   },
   "outputs": [],
   "source": [
    "kk = range(10, 30, 1)\n",
    "err_train = []\n",
    "err_test = []\n",
    "err_general = []\n",
    "\n",
    "for k in kk:\n",
    "    model =rf_model = ExtraTreesClassifier(n_estimators=k)\n",
    "    model.fit(X_train, y_train)\n",
    "    err_train.append(np.mean(model.predict(X_train) != y_train))\n",
    "    err_test.append(np.mean(model.predict(X_test) != y_test))\n",
    "    err_general.append(np.mean(model.predict(X) != Y))\n",
    "    "
   ]
  },
  {
   "cell_type": "code",
   "execution_count": 46,
   "metadata": {},
   "outputs": [
    {
     "data": {
      "text/plain": [
       "<matplotlib.legend.Legend at 0x626e255828>"
      ]
     },
     "execution_count": 46,
     "metadata": {},
     "output_type": "execute_result"
    },
    {
     "data": {
      "image/png": "[encoded data removed]",
      "text/plain": [
       "<matplotlib.figure.Figure at 0x626d91d400>"
      ]
     },
     "metadata": {},
     "output_type": "display_data"
    }
   ],
   "source": [
    "plt.plot(kk, err_train, '*-g', label = 'Train error')\n",
    "plt.plot(kk, err_test,  'o-y', label = 'Test error') \n",
    "plt.plot(kk, err_general, 'o-r', label = 'General error')\n",
    "plt.legend(loc = 3)"
   ]
  },
  {
   "cell_type": "markdown",
   "metadata": {},
   "source": [
    "Глядя на график, можно сделать следующие выводы:  \n",
    "1) Тренировочная ошибка была постоянна на уровке 2.7%   \n",
    "2) Наилучшие показатели тестовой ошибки были получены при 26 деревьях в ансамбле   \n",
    "3) Общая ошибка по выборке была практически стабильна (за счёт того, что тестовая выборка составляет всего треть от всей совокупности и не было значительных скачков в величине тестовой ошибки)"
   ]
  },
  {
   "cell_type": "markdown",
   "metadata": {},
   "source": [
    "Теперь воспользуемся методом адаптивного бустинга:   \n",
    "Заметим, что в нашей модели более 2 классов, поэтому для классификации будет использоваться алгоритм SAMME   \n",
    "Сначала посмотрим результаты при 50 \"экспертах\", а затем в динамике от 20 до 50."
   ]
  },
  {
   "cell_type": "code",
   "execution_count": 47,
   "metadata": {},
   "outputs": [
    {
     "data": {
      "text/plain": [
       "AdaBoostClassifier(algorithm='SAMME.R', base_estimator=None,\n",
       "          learning_rate=1.0, n_estimators=50, random_state=None)"
      ]
     },
     "execution_count": 47,
     "metadata": {},
     "output_type": "execute_result"
    }
   ],
   "source": [
    "from sklearn.ensemble import AdaBoostClassifier\n",
    "ada_model = AdaBoostClassifier()\n",
    "ada_model.fit(X_train, y_train)"
   ]
  },
  {
   "cell_type": "code",
   "execution_count": 48,
   "metadata": {},
   "outputs": [
    {
     "name": "stdout",
     "output_type": "stream",
     "text": [
      "0.274070756829 0.272727272727\n"
     ]
    }
   ],
   "source": [
    "err_train = np.mean(y_train != ada_model.predict(X_train))\n",
    "err_test = np.mean(y_test != ada_model.predict(X_test))\n",
    "print(err_train, err_test)"
   ]
  },
  {
   "cell_type": "markdown",
   "metadata": {},
   "source": [
    "Классификатор ошибается чаще, чем рассмотренный ранее ансамбль деревьев. Особенно это заметно по ошибке на тренировочной выборке. Тем интереснее сравнить результаты работы для моделей с разным числом классификаторов (fm):"
   ]
  },
  {
   "cell_type": "code",
   "execution_count": 49,
   "metadata": {
    "collapsed": true
   },
   "outputs": [],
   "source": [
    "kk = range(20, 50, 1)\n",
    "err_train = []\n",
    "err_test = []\n",
    "err_general = []\n",
    "\n",
    "for k in kk:\n",
    "    model = AdaBoostClassifier(n_estimators = k)\n",
    "    model.fit(X_train, y_train)\n",
    "    err_train.append(np.mean(model.predict(X_train) != y_train))\n",
    "    err_test.append(np.mean(model.predict(X_test) != y_test))\n",
    "    err_general.append(np.mean(model.predict(X) != Y))"
   ]
  },
  {
   "cell_type": "code",
   "execution_count": 50,
   "metadata": {},
   "outputs": [
    {
     "data": {
      "text/plain": [
       "<matplotlib.legend.Legend at 0x626ddc0c18>"
      ]
     },
     "execution_count": 50,
     "metadata": {},
     "output_type": "execute_result"
    },
    {
     "data": {
      "image/png": "[encoded data removed]",
      "text/plain": [
       "<matplotlib.figure.Figure at 0x626c62c7b8>"
      ]
     },
     "metadata": {},
     "output_type": "display_data"
    }
   ],
   "source": [
    "plt.plot(kk, err_train, '*-g', label = 'Train error')\n",
    "plt.plot(kk, err_test,  'o-y', label = 'Test error') \n",
    "plt.plot(kk, err_general, 'o-r', label = 'General error')\n",
    "plt.legend(loc = 3)"
   ]
  },
  {
   "cell_type": "markdown",
   "metadata": {},
   "source": [
    "Уже интереснее - наиболее точно данная модель работает при 30 классификаторах. На этих графиках уже прослеживается влияние тестовой ошибки на общую ошибку. Тем не менее, ансамбль деревеьв решений более точно определял класс, к которому относится участок ДНК."
   ]
  },
  {
   "cell_type": "markdown",
   "metadata": {},
   "source": [
    "Метод градиентного спуска интересен с той точки зрения, что величина ошибки может зависеть как от числа классификаторов, так и от глубины спуска. Возьмём число классификаторов от 20 до 50, глубину спуска от 3 до 5 и приготовимся наблюдать."
   ]
  },
  {
   "cell_type": "code",
   "execution_count": 51,
   "metadata": {},
   "outputs": [
    {
     "data": {
      "text/plain": [
       "GradientBoostingClassifier(criterion='friedman_mse', init=None,\n",
       "              learning_rate=0.1, loss='deviance', max_depth=3,\n",
       "              max_features=None, max_leaf_nodes=None,\n",
       "              min_impurity_split=1e-07, min_samples_leaf=1,\n",
       "              min_samples_split=2, min_weight_fraction_leaf=0.0,\n",
       "              n_estimators=100, presort='auto', random_state=None,\n",
       "              subsample=1.0, verbose=0, warm_start=False)"
      ]
     },
     "execution_count": 51,
     "metadata": {},
     "output_type": "execute_result"
    }
   ],
   "source": [
    "from sklearn.ensemble import GradientBoostingClassifier\n",
    "gbt_model = GradientBoostingClassifier()\n",
    "gbt_model.fit(X_train, y_train)"
   ]
  },
  {
   "cell_type": "code",
   "execution_count": 52,
   "metadata": {},
   "outputs": [
    {
     "name": "stdout",
     "output_type": "stream",
     "text": [
      "0.150470219436 0.215256008359\n"
     ]
    }
   ],
   "source": [
    "err_train = np.mean(y_train != gbt_model.predict(X_train))\n",
    "err_test = np.mean(y_test != gbt_model.predict(X_test))\n",
    "print(err_train, err_test)"
   ]
  },
  {
   "cell_type": "markdown",
   "metadata": {},
   "source": [
    "Исходя из полученных результатов, для 100 \"экспертов\" и глубины спуска = 3, полученная ошибка лучше, чем при адаптивном бустинге. Теперь подготовим данные для построения графиков."
   ]
  },
  {
   "cell_type": "code",
   "execution_count": 53,
   "metadata": {
    "collapsed": true
   },
   "outputs": [],
   "source": [
    "from random import randint\n",
    "kk = range(20, 50, 1)\n",
    "err_train_3 = []\n",
    "err_test_3 = []\n",
    "err_general_3 = []\n",
    "\n",
    "err_train_4 = []\n",
    "err_test_4 = []\n",
    "err_general_4 = []\n",
    "\n",
    "err_train_5 = []\n",
    "err_test_5 = []\n",
    "err_general_5 = []\n",
    "\n",
    "for k in kk:\n",
    "    model = GradientBoostingClassifier(n_estimators = k, max_depth = 3)\n",
    "    model.fit(X_train, y_train)\n",
    "    err_train_3.append(np.mean(model.predict(X_train) != y_train))\n",
    "    err_test_3.append(np.mean(model.predict(X_test) != y_test))\n",
    "    err_general_3.append(np.mean(model.predict(X) != Y))\n",
    "    \n",
    "    model = GradientBoostingClassifier(n_estimators = k, max_depth = 3)\n",
    "    model.fit(X_train, y_train)\n",
    "    err_train_4.append(np.mean(model.predict(X_train) != y_train))\n",
    "    err_test_4.append(np.mean(model.predict(X_test) != y_test))\n",
    "    err_general_4.append(np.mean(model.predict(X) != Y))\n",
    "    \n",
    "    model = GradientBoostingClassifier(n_estimators = k, max_depth = 3)\n",
    "    model.fit(X_train, y_train)\n",
    "    err_train_5.append(np.mean(model.predict(X_train) != y_train))\n",
    "    err_test_5.append(np.mean(model.predict(X_test) != y_test))\n",
    "    err_general_5.append(np.mean(model.predict(X) != Y))"
   ]
  },
  {
   "cell_type": "code",
   "execution_count": 54,
   "metadata": {},
   "outputs": [
    {
     "data": {
      "text/plain": [
       "<matplotlib.legend.Legend at 0x626dd2b390>"
      ]
     },
     "execution_count": 54,
     "metadata": {},
     "output_type": "execute_result"
    },
    {
     "data": {
      "image/png": "[encoded data removed]",
      "text/plain": [
       "<matplotlib.figure.Figure at 0x626e2dc0b8>"
      ]
     },
     "metadata": {},
     "output_type": "display_data"
    }
   ],
   "source": [
    "plt.plot(kk, err_train_3, '*-g', label = 'Train error 3')\n",
    "\n",
    "plt.plot(kk, err_test_3,  'o-y', label = 'Test error 3') \n",
    "plt.plot(kk, err_general_3, 'o-r', label = 'General error 3')\n",
    "plt.legend(loc = 3)"
   ]
  },
  {
   "cell_type": "markdown",
   "metadata": {},
   "source": [
    "Исходя из полученноо графика для глубины спуска = 3, с возрастанием количества классификаторов ошибка снижается и достигает минимума при 48 классификаторах. Вспомним, что для 100 \"экспертов\" было получено значение 15% ошибки для обучающей выборки, отсюда делаем вывод, что минимум на 48 \"экспертах\" является локальным."
   ]
  },
  {
   "cell_type": "code",
   "execution_count": 58,
   "metadata": {},
   "outputs": [
    {
     "data": {
      "text/plain": [
       "<matplotlib.legend.Legend at 0x626dcdfba8>"
      ]
     },
     "execution_count": 58,
     "metadata": {},
     "output_type": "execute_result"
    },
    {
     "data": {
      "image/png": "[encoded data removed]",
      "text/plain": [
       "<matplotlib.figure.Figure at 0x626dafa860>"
      ]
     },
     "metadata": {},
     "output_type": "display_data"
    }
   ],
   "source": [
    "plt.plot(kk, err_general_3, 'o-g', label = 'General error 3')\n",
    "plt.plot(kk, err_general_4,  'o-y', label = 'General error 4') \n",
    "plt.plot(kk, err_general_5, 'o-r', label = 'General error 5')\n",
    "plt.legend(loc = 3)"
   ]
  },
  {
   "cell_type": "markdown",
   "metadata": {},
   "source": [
    "На данном рисунке мы видим только красный график, хотя отрисованы все три графика. Отсюда делаем вывод о независимости результатов классификции наших данных методом градиентного спуска от глубины спуска."
   ]
  },
  {
   "cell_type": "markdown",
   "metadata": {},
   "source": [
    "Теперь применим метод главных компонент; интересно, сколько же столбцов - признаков останется в данных, если не внести никаких ограничений модели."
   ]
  },
  {
   "cell_type": "code",
   "execution_count": 71,
   "metadata": {},
   "outputs": [
    {
     "name": "stdout",
     "output_type": "stream",
     "text": [
      "[[  1.25565675   0.21984029  -0.95422243 ...,  -3.82745367   1.36665552\n",
      "   -3.04696444]\n",
      " [  0.68861321   0.47737679  -1.73149275 ...,  -2.39540684   1.36665552\n",
      "   -0.91417528]\n",
      " [ -0.98155136  -0.34550526   1.37251637 ...,   2.27980487   2.88159766\n",
      "   -5.08280864]\n",
      " ..., \n",
      " [ -0.75840269   0.18867099  -0.66779593 ...,   1.92179316  -0.79754753\n",
      "    2.76973326]\n",
      " [  0.73186889   0.13519722  -0.57248382 ...,  -1.72150245   4.6129601\n",
      "   -6.24614818]\n",
      " [  1.63848637   0.32516361  -1.09914747 ...,  -5.80704782   6.34432255\n",
      "  -10.89950634]]\n"
     ]
    }
   ],
   "source": [
    "from sklearn.decomposition import PCA\n",
    "pca = PCA(whiten=True).fit(X_train)\n",
    "X_train_pca = pca.transform(X_train)\n",
    "X_test_pca = pca.transform(X_test)\n",
    "print(X_train_pca)"
   ]
  },
  {
   "cell_type": "code",
   "execution_count": 72,
   "metadata": {},
   "outputs": [
    {
     "data": {
      "text/plain": [
       "12"
      ]
     },
     "execution_count": 72,
     "metadata": {},
     "output_type": "execute_result"
    }
   ],
   "source": [
    "len(X_train.columns)"
   ]
  },
  {
   "cell_type": "markdown",
   "metadata": {},
   "source": [
    "Интересное наблюдение: все 12 столбцов, которые остались в данных после удаления 3 столбцов, явно указывающих на класс, вошли в отобранные при помощи метода главных компонент. Отсюда делаем вывод, что сокращать размерность пространства признаков просто некуда."
   ]
  },
  {
   "cell_type": "markdown",
   "metadata": {},
   "source": [
    "Как и было указано выше, прогоним повторное тестирование для некоторых методов, рассмотренных в первой части - а именно, для метода опорных векторов, входящего в число показавших наилучшие результаты, и для линейного дискриминантного анализа, закоремендовавшего себя не самым лучшим образом."
   ]
  },
  {
   "cell_type": "code",
   "execution_count": 73,
   "metadata": {},
   "outputs": [
    {
     "data": {
      "text/plain": [
       "0.20480668756530826"
      ]
     },
     "execution_count": 73,
     "metadata": {},
     "output_type": "execute_result"
    }
   ],
   "source": [
    "from sklearn.svm import SVC # \"Support Vector Classifier\"\n",
    "svc_model = SVC(kernel = 'linear')\n",
    "svc_model.fit(X_test, y_test)\n",
    "y_test_pred = svc_model.predict(X_test)\n",
    "np.mean(y_test != y_test_pred)"
   ]
  },
  {
   "cell_type": "markdown",
   "metadata": {},
   "source": [
    "Вот теперь получено более реальное значение ошибки, значительно отличающееся от нуля!"
   ]
  },
  {
   "cell_type": "code",
   "execution_count": 74,
   "metadata": {},
   "outputs": [
    {
     "name": "stderr",
     "output_type": "stream",
     "text": [
      "C:\\ProgramData\\Anaconda3\\lib\\site-packages\\sklearn\\discriminant_analysis.py:387: UserWarning: Variables are collinear.\n",
      "  warnings.warn(\"Variables are collinear.\")\n"
     ]
    },
    {
     "data": {
      "text/plain": [
       "0.24242424242424243"
      ]
     },
     "execution_count": 74,
     "metadata": {},
     "output_type": "execute_result"
    }
   ],
   "source": [
    "from sklearn import discriminant_analysis\n",
    "lda_model = discriminant_analysis.LinearDiscriminantAnalysis()\n",
    "lda_model.fit(X_train, y_train)\n",
    "y_test_pred = lda_model.predict(X_test)\n",
    "np.mean(y_test != y_test_pred)"
   ]
  },
  {
   "cell_type": "markdown",
   "metadata": {},
   "source": [
    "Полученная ошибка не изменилась по сравнению с предыдущим случаем использования линейного дискриминантного анализа. Кроме того, мы снова получили предупреждение, что переменные коллинеарны, что означает достаточно сильную корреляцию между столбцами - признаками данных. Тем не менее, метод главных компонент не исключил ни одного столбца из данных. "
   ]
  },
  {
   "cell_type": "markdown",
   "metadata": {},
   "source": [
    "Наконец, посмотрим на изменение значений ошибки для ансамбля деревьев решений при сокращении размерности пространства признаков. Пусть их количество меняется от 2 до 12"
   ]
  },
  {
   "cell_type": "code",
   "execution_count": 82,
   "metadata": {},
   "outputs": [],
   "source": [
    "from sklearn.decomposition import PCA\n",
    "err_train = []\n",
    "err_test = []\n",
    "\n",
    "for i in range (2,12):\n",
    "    pca = PCA(n_components = i, whiten=True).fit(X_train)\n",
    "    X_train_pca = pca.transform(X_train)\n",
    "    X_test_pca = pca.transform(X_test)\n",
    "    model = ExtraTreesClassifier(n_estimators = 26)\n",
    "    model.fit(X_train_pca, y_train)\n",
    "    err_train.append(np.mean(model.predict(X_train_pca) != y_train))\n",
    "    err_test.append(np.mean(model.predict(X_test_pca) != y_test))\n"
   ]
  },
  {
   "cell_type": "code",
   "execution_count": 83,
   "metadata": {},
   "outputs": [
    {
     "data": {
      "text/plain": [
       "<matplotlib.legend.Legend at 0x626b57b978>"
      ]
     },
     "execution_count": 83,
     "metadata": {},
     "output_type": "execute_result"
    },
    {
     "data": {
      "image/png": "[encoded data removed]",
      "text/plain": [
       "<matplotlib.figure.Figure at 0x626b936208>"
      ]
     },
     "metadata": {},
     "output_type": "display_data"
    }
   ],
   "source": [
    "kk = range(2,12, 1)\n",
    "plt.plot(kk, err_train, '*-g', label = 'Train error')\n",
    "plt.plot(kk, err_test,  'o-y', label = 'Test error') \n",
    "plt.legend(loc = 2)"
   ]
  },
  {
   "cell_type": "markdown",
   "metadata": {},
   "source": [
    "Исходя из графика, можно сделать вывод, что по меньшей мере 6 признаков нужны для того, чтобы снизить ошибку вдвое по срвнению с ошибкой при 2 признаках."
   ]
  },
  {
   "cell_type": "markdown",
   "metadata": {},
   "source": [
    "Выводы:   \n",
    "Исключение некоторых столбцов, непосредственно указывающих на класс, привело к тому, что точность классификации уменьшилась и стала более реальной;  \n",
    "из сохранившихся параметров не удалось исключить не участвующие в классификации по причине отсутствия таковых;   \n",
    "Среди проверенных во второй части методов средняя ошибка ~20%, наилучшим образом себя зарекомендовали метод ансамблей деревьев решений и метод градиентного спуска с минимальной ошибкой на тестовой выборке в 18%.   \n",
    "Применение машины опорных векторов на уменьшенном пространстве признаков показало вполне ожидаемый рост ошибки классификации, последняя на тестовой выборке составила 20%. Это говорит о том, что результаты, полученные в первой части работы, стоит перепроверить, предположительно ошибка составит около 20%. Ошибка, полученная при использовании адаптивного бустинга, даже больше, чем при использовании линейного дискриминантного анализа, который мы сочли не самым подходящим для классификации в первой части работы.   \n",
    "Интересно ещё и то, что часть методов, рассмотренных до деревьев решений, даже со столбцами, явно и однозначно указывающими на класс, к которому относится данная последовательность нуклеотид, кодирующая участок ДНК, не смогла это \"увидеть\" и, соответственно, воспользоваться. Из методов, рассмотренных во второй части, минимальная ошибка на тестовой выборке составила около 18%. Средняя около 20%, отсюда делаем вывод, что любая модель, дающая более 80% верных указаний класса, может быть применима к используемым данным.   \n",
    "Лично для меня оказалось наиболее применимым использование ансамблей деревьев решений, потому что метод градиентного спуска заставил ноутбук основательно \"задуматься\" на сравнительно большой промежуток времени (по сравнению с прочими моделями)."
   ]
  },
  {
   "cell_type": "code",
   "execution_count": null,
   "metadata": {
    "collapsed": true
   },
   "outputs": [],
   "source": []
  }
 ],
 "metadata": {
  "kernelspec": {
   "display_name": "Python 3",
   "language": "python",
   "name": "python3"
  },
  "language_info": {
   "codemirror_mode": {
    "name": "ipython",
    "version": 3
   },
   "file_extension": ".py",
   "mimetype": "text/x-python",
   "name": "python",
   "nbconvert_exporter": "python",
   "pygments_lexer": "ipython3",
   "version": "3.6.1"
  }
 },
 "nbformat": 4,
 "nbformat_minor": 2
}
